{
 "cells": [
  {
   "cell_type": "markdown",
   "metadata": {},
   "source": [
    "# 1 - Scraping Weather Data"
   ]
  },
  {
   "cell_type": "code",
   "execution_count": 1,
   "metadata": {},
   "outputs": [],
   "source": [
    "import pandas as pd\n",
    "import numpy as np\n",
    "import requests\n",
    "from bs4 import BeautifulSoup\n",
    "import re\n",
    "from urllib.error import HTTPError"
   ]
  },
  {
   "cell_type": "code",
   "execution_count": 2,
   "metadata": {},
   "outputs": [],
   "source": [
    "link = \"http://www.weather.gov.sg/climate-historical-daily/\"\n",
    "page = requests.get(link)\n",
    "soup = BeautifulSoup(page.content, 'html.parser')"
   ]
  },
  {
   "cell_type": "code",
   "execution_count": 3,
   "metadata": {},
   "outputs": [
    {
     "data": {
      "text/plain": [
       "'<li><a href=\"#Admiralty\" onclick=\"setYear(\\'S104\\')\">Admiralty</a></li><li><a href=\"#Admiralty West\" onclick=\"setYear(\\'S105\\')\">Admiralty West</a></li><li><a href=\"#Ang Mo Kio\" onclick=\"setYear(\\'S109\\')\">Ang Mo Kio</a></li><li><a href=\"#Boon Lay (East)\" onclick=\"setYear(\\'S86\\')\">Boon Lay (East)</a></li><li><a href=\"#Boon Lay (West)\" onclick=\"setYear(\\'S63\\')\">Boon Lay (West)</a></li><li><a href=\"#Botanic Garden\" onclick=\"setYear(\\'S120\\')\">Botanic Garden</a></li><li><a href=\"#Buangkok\" onclick=\"setYear(\\'S55\\')\">Buangkok</a></li><li><a href=\"#Bukit Panjang\" onclick=\"setYear(\\'S64\\')\">Bukit Panjang</a></li><li><a href=\"#Bukit Timah\" onclick=\"setYear(\\'S90\\')\">Bukit Timah</a></li><li><a href=\"#Buona Vista\" onclick=\"setYear(\\'S92\\')\">Buona Vista</a></li><li><a href=\"#Chai Chee\" onclick=\"setYear(\\'S61\\')\">Chai Chee</a></li><li><a href=\"#Changi\" onclick=\"setYear(\\'S24\\')\">Changi</a></li><li><a href=\"#Choa Chu Kang (Central)\" onclick=\"setYear(\\'S114\\')\">Choa Chu Kang (Central)</a></li><li><a href=\"#Choa Chu Kang (South)\" onclick=\"setYear(\\'S121\\')\">Choa Chu Kang (South)</a></li><li><a href=\"#Choa Chu Kang (West)\" onclick=\"setYear(\\'S11\\')\">Choa Chu Kang (West)</a></li><li><a href=\"#Clementi\" onclick=\"setYear(\\'S50\\')\">Clementi</a></li><li><a href=\"#Dhoby Ghaut\" onclick=\"setYear(\\'S118\\')\">Dhoby Ghaut</a></li><li><a href=\"#East Coast Parkway\" onclick=\"setYear(\\'S107\\')\">East Coast Parkway</a></li><li><a href=\"#Jurong (East)\" onclick=\"setYear(\\'S39\\')\">Jurong (East)</a></li><li><a href=\"#Jurong (North)\" onclick=\"setYear(\\'S101\\')\">Jurong (North)</a></li><li><a href=\"#Jurong (West)\" onclick=\"setYear(\\'S44\\')\">Jurong (West)</a></li><li><a href=\"#Jurong Island\" onclick=\"setYear(\\'S117\\')\">Jurong Island</a></li><li><a href=\"#Jurong Pier\" onclick=\"setYear(\\'S33\\')\">Jurong Pier</a></li><li><a href=\"#Kampong Bahru\" onclick=\"setYear(\\'S31\\')\">Kampong Bahru</a></li><li><a href=\"#Kent Ridge\" onclick=\"setYear(\\'S71\\')\">Kent Ridge</a></li><li><a href=\"#Khatib\" onclick=\"setYear(\\'S122\\')\">Khatib</a></li><li><a href=\"#Kranji Reservoir\" onclick=\"setYear(\\'S66\\')\">Kranji Reservoir</a></li><li><a href=\"#Lim Chu Kang\" onclick=\"setYear(\\'S112\\')\">Lim Chu Kang</a></li><li><a href=\"#Lower Peirce Reservoir\" onclick=\"setYear(\\'S08\\')\">Lower Peirce Reservoir</a></li><li><a href=\"#Macritchie Reservoir\" onclick=\"setYear(\\'S07\\')\">Macritchie Reservoir</a></li><li><a href=\"#Mandai\" onclick=\"setYear(\\'S40\\')\">Mandai</a></li><li><a href=\"#Marina Barrage\" onclick=\"setYear(\\'S108\\')\">Marina Barrage</a></li><li><a href=\"#Marine Parade\" onclick=\"setYear(\\'S113\\')\">Marine Parade</a></li><li><a href=\"#Newton\" onclick=\"setYear(\\'S111\\')\">Newton</a></li><li><a href=\"#Nicoll Highway\" onclick=\"setYear(\\'S119\\')\">Nicoll Highway</a></li><li><a href=\"#Pasir Panjang\" onclick=\"setYear(\\'S116\\')\">Pasir Panjang</a></li><li><a href=\"#Pasir Ris (Central)\" onclick=\"setYear(\\'S94\\')\">Pasir Ris (Central)</a></li><li><a href=\"#Pasir Ris (West)\" onclick=\"setYear(\\'S29\\')\">Pasir Ris (West)</a></li><li><a href=\"#Paya Lebar\" onclick=\"setYear(\\'S06\\')\">Paya Lebar</a></li><li><a href=\"#Pulau Ubin\" onclick=\"setYear(\\'S106\\')\">Pulau Ubin</a></li><li><a href=\"#Punggol\" onclick=\"setYear(\\'S81\\')\">Punggol</a></li><li><a href=\"#Queenstown\" onclick=\"setYear(\\'S77\\')\">Queenstown</a></li><li><a href=\"#Seletar\" onclick=\"setYear(\\'S25\\')\">Seletar</a></li><li><a href=\"#Semakau Island\" onclick=\"setYear(\\'S102\\')\">Semakau Island</a></li><li><a href=\"#Sembawang\" onclick=\"setYear(\\'S80\\')\">Sembawang</a></li><li><a href=\"#Sentosa Island\" onclick=\"setYear(\\'S60\\')\">Sentosa Island</a></li><li><a href=\"#Serangoon\" onclick=\"setYear(\\'S36\\')\">Serangoon</a></li><li><a href=\"#Serangoon North\" onclick=\"setYear(\\'S110\\')\">Serangoon North</a></li><li><a href=\"#Simei\" onclick=\"setYear(\\'S84\\')\">Simei</a></li><li><a href=\"#Somerset (Road)\" onclick=\"setYear(\\'S79\\')\">Somerset (Road)</a></li><li><a href=\"#Tai Seng\" onclick=\"setYear(\\'S43\\')\">Tai Seng</a></li><li><a href=\"#Tanjong Katong\" onclick=\"setYear(\\'S78\\')\">Tanjong Katong</a></li><li><a href=\"#Tanjong Pagar\" onclick=\"setYear(\\'S72\\')\">Tanjong Pagar</a></li><li><a href=\"#Tengah\" onclick=\"setYear(\\'S23\\')\">Tengah</a></li><li><a href=\"#Toa Payoh\" onclick=\"setYear(\\'S88\\')\">Toa Payoh</a></li><li><a href=\"#Tuas\" onclick=\"setYear(\\'S89\\')\">Tuas</a></li><li><a href=\"#Tuas South\" onclick=\"setYear(\\'S115\\')\">Tuas South</a></li><li><a href=\"#Tuas West\" onclick=\"setYear(\\'S82\\')\">Tuas West</a></li><li><a href=\"#Ulu Pandan\" onclick=\"setYear(\\'S35\\')\">Ulu Pandan</a></li><li><a href=\"#Upper Peirce Reservoir\" onclick=\"setYear(\\'S69\\')\">Upper Peirce Reservoir</a></li><li><a href=\"#Upper Thomson\" onclick=\"setYear(\\'S46\\')\">Upper Thomson</a></li><li><a href=\"#Whampoa\" onclick=\"setYear(\\'S123\\')\">Whampoa</a></li><li><a href=\"#Yishun\" onclick=\"setYear(\\'S91\\')\">Yishun</a></li>'"
      ]
     },
     "execution_count": 3,
     "metadata": {},
     "output_type": "execute_result"
    }
   ],
   "source": [
    "cities = ''\n",
    "location = soup.find(class_=\"dropdown-menu long-dropdown\").find_all('li')\n",
    "for loc in location:\n",
    "    cities += str(loc)\n",
    "cities"
   ]
  },
  {
   "cell_type": "code",
   "execution_count": 4,
   "metadata": {},
   "outputs": [
    {
     "data": {
      "text/plain": [
       "63"
      ]
     },
     "execution_count": 4,
     "metadata": {},
     "output_type": "execute_result"
    }
   ],
   "source": [
    "\n",
    "districts = re.findall(r'(?<=\\W)[S]\\d+', cities)\n",
    "len(districts)"
   ]
  },
  {
   "cell_type": "code",
   "execution_count": 5,
   "metadata": {},
   "outputs": [],
   "source": [
    "u=[]\n",
    "for d in districts:\n",
    "    u.append(\"http://www.weather.gov.sg/files/dailydata/DAILYDATA_\"+ d + \"_202209.csv\")"
   ]
  },
  {
   "cell_type": "code",
   "execution_count": 6,
   "metadata": {},
   "outputs": [
    {
     "name": "stdout",
     "output_type": "stream",
     "text": [
      "http://www.weather.gov.sg/files/dailydata/DAILYDATA_S105_202209.csv\n",
      "http://www.weather.gov.sg/files/dailydata/DAILYDATA_S86_202209.csv\n",
      "http://www.weather.gov.sg/files/dailydata/DAILYDATA_S63_202209.csv\n",
      "http://www.weather.gov.sg/files/dailydata/DAILYDATA_S55_202209.csv\n",
      "http://www.weather.gov.sg/files/dailydata/DAILYDATA_S11_202209.csv\n",
      "http://www.weather.gov.sg/files/dailydata/DAILYDATA_S39_202209.csv\n",
      "http://www.weather.gov.sg/files/dailydata/DAILYDATA_S101_202209.csv\n",
      "http://www.weather.gov.sg/files/dailydata/DAILYDATA_S31_202209.csv\n",
      "http://www.weather.gov.sg/files/dailydata/DAILYDATA_S122_202209.csv\n",
      "http://www.weather.gov.sg/files/dailydata/DAILYDATA_S110_202209.csv\n",
      "http://www.weather.gov.sg/files/dailydata/DAILYDATA_S72_202209.csv\n",
      "http://www.weather.gov.sg/files/dailydata/DAILYDATA_S46_202209.csv\n",
      "http://www.weather.gov.sg/files/dailydata/DAILYDATA_S91_202209.csv\n"
     ]
    },
    {
     "data": {
      "text/plain": [
       "['S105',\n",
       " 'S86',\n",
       " 'S63',\n",
       " 'S55',\n",
       " 'S11',\n",
       " 'S39',\n",
       " 'S101',\n",
       " 'S31',\n",
       " 'S122',\n",
       " 'S110',\n",
       " 'S72',\n",
       " 'S46',\n",
       " 'S91']"
      ]
     },
     "execution_count": 6,
     "metadata": {},
     "output_type": "execute_result"
    }
   ],
   "source": [
    "# list of 404 pages\n",
    "errlst=[]\n",
    "# Check if all links are accessible \n",
    "for f in u:\n",
    "    requests.get(f)\n",
    "    try:\n",
    "        d =pd.read_csv(f)\n",
    "    except UnicodeDecodeError:\n",
    "        d =pd.read_csv(f, encoding='ISO-8859-1')\n",
    "    except:\n",
    "        print(f)\n",
    "        errlst += re.findall(r'[S]\\d+', f)\n",
    "\n",
    "errlst\n"
   ]
  },
  {
   "cell_type": "code",
   "execution_count": 7,
   "metadata": {},
   "outputs": [
    {
     "data": {
      "text/plain": [
       "50"
      ]
     },
     "execution_count": 7,
     "metadata": {},
     "output_type": "execute_result"
    }
   ],
   "source": [
    "ct_lst = [i for i in districts if i not in errlst]\n",
    "len(ct_lst)"
   ]
  },
  {
   "cell_type": "code",
   "execution_count": 8,
   "metadata": {},
   "outputs": [],
   "source": [
    "def get_weather(yearStart=None, yearEnd=2022):\n",
    "    \"\"\" \n",
    "    input: yearStart = start year of data; yearEnd = end year of data\n",
    "    output: dataframe containing weather data of all cities and months from start year to end year\n",
    "    \"\"\"\n",
    "    \n",
    "    if yearStart is None:\n",
    "        raise Exception(\"Please indicate year range\")\n",
    "    else:\n",
    "        months=['01','02','03','04','05','06','07','08','09','10','11','12']\n",
    "        dfs=[]\n",
    "        for y in range(yearStart,yearEnd+1):\n",
    "            for d in ct_lst:\n",
    "                for m in months:\n",
    "                    \n",
    "                    url = \"http://www.weather.gov.sg/files/dailydata/DAILYDATA_\"+ d +\"_\"+ str(y) + m + \".csv\"\n",
    "                    r = requests.get(url)\n",
    "\n",
    "                    try:\n",
    "                        df = pd.read_csv(url)\n",
    "                    except UnicodeDecodeError:\n",
    "                        df = pd.read_csv(url,encoding='ISO-8859-1')\n",
    "                    except HTTPError as err:\n",
    "                        if err.code == 302:\n",
    "                            continue\n",
    "                        else:\n",
    "                            raise Exception(\"HTTP Error\")\n",
    "                        \n",
    "\n",
    "                    dfs.append(df)\n",
    "\n",
    "        res = pd.concat(dfs, ignore_index=True)\n",
    "\n",
    "        return res"
   ]
  },
  {
   "cell_type": "code",
   "execution_count": 29,
   "metadata": {},
   "outputs": [
    {
     "name": "stdout",
     "output_type": "stream",
     "text": [
      "CPU times: user 35 s, sys: 6.77 s, total: 41.8 s\n",
      "Wall time: 4min 55s\n"
     ]
    }
   ],
   "source": [
    "%%time\n",
    "# tring to get all data between 2014 to 2020, run time ~ 4m55s\n",
    "data = get_weather(yearStart=2014,yearEnd=2020)\n",
    "data.to_csv('../data/weather_data.csv')"
   ]
  },
  {
   "cell_type": "code",
   "execution_count": 30,
   "metadata": {},
   "outputs": [
    {
     "name": "stderr",
     "output_type": "stream",
     "text": [
      "/var/folders/tg/8mpzp58s7wd9h25zt2bffqd00000gn/T/ipykernel_868/2326829862.py:1: DtypeWarning: Columns (14,15,16) have mixed types. Specify dtype option on import or set low_memory=False.\n",
      "  df = pd.read_csv('weather_data.csv')\n"
     ]
    },
    {
     "data": {
      "text/html": [
       "<div>\n",
       "<style scoped>\n",
       "    .dataframe tbody tr th:only-of-type {\n",
       "        vertical-align: middle;\n",
       "    }\n",
       "\n",
       "    .dataframe tbody tr th {\n",
       "        vertical-align: top;\n",
       "    }\n",
       "\n",
       "    .dataframe thead th {\n",
       "        text-align: right;\n",
       "    }\n",
       "</style>\n",
       "<table border=\"1\" class=\"dataframe\">\n",
       "  <thead>\n",
       "    <tr style=\"text-align: right;\">\n",
       "      <th></th>\n",
       "      <th>Unnamed: 0</th>\n",
       "      <th>Station</th>\n",
       "      <th>Year</th>\n",
       "      <th>Month</th>\n",
       "      <th>Day</th>\n",
       "      <th>Daily Rainfall Total (mm)</th>\n",
       "      <th>Highest 30 Min Rainfall (mm)</th>\n",
       "      <th>Highest 60 Min Rainfall (mm)</th>\n",
       "      <th>Highest 120 Min Rainfall (mm)</th>\n",
       "      <th>Mean Temperature (°C)</th>\n",
       "      <th>Maximum Temperature (°C)</th>\n",
       "      <th>Minimum Temperature (°C)</th>\n",
       "      <th>Mean Wind Speed (km/h)</th>\n",
       "      <th>Max Wind Speed (km/h)</th>\n",
       "      <th>Highest 30 min Rainfall (mm)</th>\n",
       "      <th>Highest 60 min Rainfall (mm)</th>\n",
       "      <th>Highest 120 min Rainfall (mm)</th>\n",
       "    </tr>\n",
       "  </thead>\n",
       "  <tbody>\n",
       "    <tr>\n",
       "      <th>0</th>\n",
       "      <td>0</td>\n",
       "      <td>Admiralty</td>\n",
       "      <td>2014.0</td>\n",
       "      <td>1.0</td>\n",
       "      <td>1.0</td>\n",
       "      <td>0.0</td>\n",
       "      <td>0.0</td>\n",
       "      <td>0.0</td>\n",
       "      <td>0.0</td>\n",
       "      <td>26.3</td>\n",
       "      <td>28.8</td>\n",
       "      <td>24.3</td>\n",
       "      <td>10.8</td>\n",
       "      <td>34.2</td>\n",
       "      <td>NaN</td>\n",
       "      <td>NaN</td>\n",
       "      <td>NaN</td>\n",
       "    </tr>\n",
       "    <tr>\n",
       "      <th>1</th>\n",
       "      <td>1</td>\n",
       "      <td>Admiralty</td>\n",
       "      <td>2014.0</td>\n",
       "      <td>1.0</td>\n",
       "      <td>2.0</td>\n",
       "      <td>0.0</td>\n",
       "      <td>0.0</td>\n",
       "      <td>0.0</td>\n",
       "      <td>0.0</td>\n",
       "      <td>26.9</td>\n",
       "      <td>30.7</td>\n",
       "      <td>24.6</td>\n",
       "      <td>11.5</td>\n",
       "      <td>38.2</td>\n",
       "      <td>NaN</td>\n",
       "      <td>NaN</td>\n",
       "      <td>NaN</td>\n",
       "    </tr>\n",
       "    <tr>\n",
       "      <th>2</th>\n",
       "      <td>2</td>\n",
       "      <td>Admiralty</td>\n",
       "      <td>2014.0</td>\n",
       "      <td>1.0</td>\n",
       "      <td>3.0</td>\n",
       "      <td>4.6</td>\n",
       "      <td>4.4</td>\n",
       "      <td>4.4</td>\n",
       "      <td>4.6</td>\n",
       "      <td>26.5</td>\n",
       "      <td>29.5</td>\n",
       "      <td>24.9</td>\n",
       "      <td>9.7</td>\n",
       "      <td>34.2</td>\n",
       "      <td>NaN</td>\n",
       "      <td>NaN</td>\n",
       "      <td>NaN</td>\n",
       "    </tr>\n",
       "    <tr>\n",
       "      <th>3</th>\n",
       "      <td>3</td>\n",
       "      <td>Admiralty</td>\n",
       "      <td>2014.0</td>\n",
       "      <td>1.0</td>\n",
       "      <td>4.0</td>\n",
       "      <td>3.8</td>\n",
       "      <td>3.8</td>\n",
       "      <td>3.8</td>\n",
       "      <td>3.8</td>\n",
       "      <td>26.4</td>\n",
       "      <td>31.2</td>\n",
       "      <td>24.7</td>\n",
       "      <td>8.1</td>\n",
       "      <td>32.8</td>\n",
       "      <td>NaN</td>\n",
       "      <td>NaN</td>\n",
       "      <td>NaN</td>\n",
       "    </tr>\n",
       "    <tr>\n",
       "      <th>4</th>\n",
       "      <td>4</td>\n",
       "      <td>Admiralty</td>\n",
       "      <td>2014.0</td>\n",
       "      <td>1.0</td>\n",
       "      <td>5.0</td>\n",
       "      <td>3.6</td>\n",
       "      <td>1.2</td>\n",
       "      <td>1.6</td>\n",
       "      <td>2.0</td>\n",
       "      <td>24.6</td>\n",
       "      <td>25.3</td>\n",
       "      <td>23.6</td>\n",
       "      <td>8.4</td>\n",
       "      <td>27.0</td>\n",
       "      <td>NaN</td>\n",
       "      <td>NaN</td>\n",
       "      <td>NaN</td>\n",
       "    </tr>\n",
       "  </tbody>\n",
       "</table>\n",
       "</div>"
      ],
      "text/plain": [
       "   Unnamed: 0    Station    Year  Month  Day Daily Rainfall Total (mm)  \\\n",
       "0           0  Admiralty  2014.0    1.0  1.0                       0.0   \n",
       "1           1  Admiralty  2014.0    1.0  2.0                       0.0   \n",
       "2           2  Admiralty  2014.0    1.0  3.0                       4.6   \n",
       "3           3  Admiralty  2014.0    1.0  4.0                       3.8   \n",
       "4           4  Admiralty  2014.0    1.0  5.0                       3.6   \n",
       "\n",
       "  Highest 30 Min Rainfall (mm) Highest 60 Min Rainfall (mm)  \\\n",
       "0                          0.0                          0.0   \n",
       "1                          0.0                          0.0   \n",
       "2                          4.4                          4.4   \n",
       "3                          3.8                          3.8   \n",
       "4                          1.2                          1.6   \n",
       "\n",
       "  Highest 120 Min Rainfall (mm) Mean Temperature (°C)  \\\n",
       "0                           0.0                  26.3   \n",
       "1                           0.0                  26.9   \n",
       "2                           4.6                  26.5   \n",
       "3                           3.8                  26.4   \n",
       "4                           2.0                  24.6   \n",
       "\n",
       "  Maximum Temperature (°C) Minimum Temperature (°C) Mean Wind Speed (km/h)  \\\n",
       "0                     28.8                     24.3                   10.8   \n",
       "1                     30.7                     24.6                   11.5   \n",
       "2                     29.5                     24.9                    9.7   \n",
       "3                     31.2                     24.7                    8.1   \n",
       "4                     25.3                     23.6                    8.4   \n",
       "\n",
       "  Max Wind Speed (km/h) Highest 30 min Rainfall (mm)  \\\n",
       "0                  34.2                          NaN   \n",
       "1                  38.2                          NaN   \n",
       "2                  34.2                          NaN   \n",
       "3                  32.8                          NaN   \n",
       "4                  27.0                          NaN   \n",
       "\n",
       "  Highest 60 min Rainfall (mm) Highest 120 min Rainfall (mm)  \n",
       "0                          NaN                           NaN  \n",
       "1                          NaN                           NaN  \n",
       "2                          NaN                           NaN  \n",
       "3                          NaN                           NaN  \n",
       "4                          NaN                           NaN  "
      ]
     },
     "execution_count": 30,
     "metadata": {},
     "output_type": "execute_result"
    }
   ],
   "source": [
    "df = pd.read_csv('weather_data.csv')\n",
    "df.head()"
   ]
  },
  {
   "cell_type": "markdown",
   "metadata": {},
   "source": [
    "# 2- Scraping Historical Dengue Data"
   ]
  },
  {
   "cell_type": "code",
   "execution_count": 31,
   "metadata": {},
   "outputs": [],
   "source": [
    "# data taken from https://outbreak.sgcharts.com/data \n",
    "import pandas as pd\n",
    "import glob\n",
    "import os\n",
    "\n",
    "path = r'/Users/natasha/Documents/GA/ClassMaterial_Edit/DSIF-SG-7/project_4_dengue_case/data/dengue_case' # use your path\n",
    "all_files = glob.glob(os.path.join(path, \"*.csv\"))\n",
    "li = []\n",
    "\n",
    "for filename in all_files:\n",
    "    df = pd.read_csv(filename, index_col=None, header=None)\n",
    "    li.append(df)\n",
    "\n",
    "frame = pd.concat(li, axis=0, ignore_index=True)"
   ]
  },
  {
   "cell_type": "code",
   "execution_count": 32,
   "metadata": {},
   "outputs": [
    {
     "data": {
      "text/html": [
       "<div>\n",
       "<style scoped>\n",
       "    .dataframe tbody tr th:only-of-type {\n",
       "        vertical-align: middle;\n",
       "    }\n",
       "\n",
       "    .dataframe tbody tr th {\n",
       "        vertical-align: top;\n",
       "    }\n",
       "\n",
       "    .dataframe thead th {\n",
       "        text-align: right;\n",
       "    }\n",
       "</style>\n",
       "<table border=\"1\" class=\"dataframe\">\n",
       "  <thead>\n",
       "    <tr style=\"text-align: right;\">\n",
       "      <th></th>\n",
       "      <th>0</th>\n",
       "      <th>1</th>\n",
       "      <th>2</th>\n",
       "      <th>3</th>\n",
       "      <th>4</th>\n",
       "      <th>5</th>\n",
       "      <th>6</th>\n",
       "      <th>7</th>\n",
       "      <th>8</th>\n",
       "    </tr>\n",
       "  </thead>\n",
       "  <tbody>\n",
       "    <tr>\n",
       "      <th>0</th>\n",
       "      <td>1</td>\n",
       "      <td>pasir ris street 71 (block 747)</td>\n",
       "      <td>1.379194</td>\n",
       "      <td>103.934693</td>\n",
       "      <td>1</td>\n",
       "      <td>1</td>\n",
       "      <td>2</td>\n",
       "      <td>170320</td>\n",
       "      <td>3</td>\n",
       "    </tr>\n",
       "    <tr>\n",
       "      <th>1</th>\n",
       "      <td>1</td>\n",
       "      <td>pasir ris street 72 (whitewater)</td>\n",
       "      <td>1.380042</td>\n",
       "      <td>103.935474</td>\n",
       "      <td>1</td>\n",
       "      <td>1</td>\n",
       "      <td>2</td>\n",
       "      <td>170320</td>\n",
       "      <td>3</td>\n",
       "    </tr>\n",
       "    <tr>\n",
       "      <th>2</th>\n",
       "      <td>2</td>\n",
       "      <td>bunga rampai place</td>\n",
       "      <td>1.338931</td>\n",
       "      <td>103.883537</td>\n",
       "      <td>1</td>\n",
       "      <td>1</td>\n",
       "      <td>32</td>\n",
       "      <td>150925</td>\n",
       "      <td>9</td>\n",
       "    </tr>\n",
       "    <tr>\n",
       "      <th>3</th>\n",
       "      <td>9</td>\n",
       "      <td>joo seng road (block 8)</td>\n",
       "      <td>1.335219</td>\n",
       "      <td>103.878805</td>\n",
       "      <td>1</td>\n",
       "      <td>1</td>\n",
       "      <td>32</td>\n",
       "      <td>150925</td>\n",
       "      <td>9</td>\n",
       "    </tr>\n",
       "    <tr>\n",
       "      <th>4</th>\n",
       "      <td>3</td>\n",
       "      <td>mount vernon road</td>\n",
       "      <td>1.340377</td>\n",
       "      <td>103.879490</td>\n",
       "      <td>1</td>\n",
       "      <td>1</td>\n",
       "      <td>32</td>\n",
       "      <td>150925</td>\n",
       "      <td>9</td>\n",
       "    </tr>\n",
       "  </tbody>\n",
       "</table>\n",
       "</div>"
      ],
      "text/plain": [
       "   0                                 1         2           3  4  5   6  \\\n",
       "0  1   pasir ris street 71 (block 747)  1.379194  103.934693  1  1   2   \n",
       "1  1  pasir ris street 72 (whitewater)  1.380042  103.935474  1  1   2   \n",
       "2  2                bunga rampai place  1.338931  103.883537  1  1  32   \n",
       "3  9           joo seng road (block 8)  1.335219  103.878805  1  1  32   \n",
       "4  3                 mount vernon road  1.340377  103.879490  1  1  32   \n",
       "\n",
       "        7  8  \n",
       "0  170320  3  \n",
       "1  170320  3  \n",
       "2  150925  9  \n",
       "3  150925  9  \n",
       "4  150925  9  "
      ]
     },
     "execution_count": 32,
     "metadata": {},
     "output_type": "execute_result"
    }
   ],
   "source": [
    "frame.head()"
   ]
  },
  {
   "cell_type": "code",
   "execution_count": 33,
   "metadata": {},
   "outputs": [],
   "source": [
    "frame.rename(columns={0: 'no_case', 1: 'address',2:'lattitude',3:'longitude',4:'cluster_no',5:'recent_case_cluster',6:'total_case_cluster',7:'date',8:'month'}, inplace=True)\n",
    "frame.to_csv('../data/dengue_case.csv')\n"
   ]
  },
  {
   "cell_type": "code",
   "execution_count": null,
   "metadata": {},
   "outputs": [],
   "source": []
  }
 ],
 "metadata": {
  "kernelspec": {
   "display_name": "Python 3.10.6 64-bit",
   "language": "python",
   "name": "python3"
  },
  "language_info": {
   "codemirror_mode": {
    "name": "ipython",
    "version": 3
   },
   "file_extension": ".py",
   "mimetype": "text/x-python",
   "name": "python",
   "nbconvert_exporter": "python",
   "pygments_lexer": "ipython3",
   "version": "3.10.6"
  },
  "orig_nbformat": 4,
  "vscode": {
   "interpreter": {
    "hash": "aee8b7b246df8f9039afb4144a1f6fd8d2ca17a180786b69acc140d282b71a49"
   }
  }
 },
 "nbformat": 4,
 "nbformat_minor": 2
}
