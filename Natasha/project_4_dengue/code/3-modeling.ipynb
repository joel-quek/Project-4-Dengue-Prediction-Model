{
 "cells": [
  {
   "cell_type": "markdown",
   "metadata": {},
   "source": [
    "# Dengue Prediction from Weather and Google Keyword Search by Machine Leaning"
   ]
  },
  {
   "cell_type": "code",
   "execution_count": 386,
   "metadata": {},
   "outputs": [],
   "source": [
    "import numpy as np\n",
    "import pandas as pd\n",
    "from sklearn.linear_model import LinearRegression\n",
    "from sklearn.model_selection import train_test_split\n",
    "from sklearn.preprocessing import StandardScaler, MinMaxScaler\n",
    "from sklearn.svm import SVR\n",
    "from sklearn.metrics import mean_squared_error,mean_absolute_error\n",
    "import datetime\n",
    "import operator\n",
    "import random\n",
    "import math\n",
    "import time\n",
    "import numpy as np\n",
    "from sklearn.datasets import make_classification, make_regression\n",
    "from sklearn.pipeline import Pipeline\n",
    "import matplotlib.pyplot as plt\n",
    "from tensorflow.keras.models import Sequential\n",
    "from tensorflow.keras.layers import Dense, LSTM, Dropout\n",
    "from tensorflow.keras.optimizers import Adam\n",
    "from tensorflow.keras.utils import to_categorical"
   ]
  },
  {
   "cell_type": "markdown",
   "metadata": {},
   "source": [
    "Notebook Navigation:\n",
    "1. Data Scraping\n",
    "2. Dataset Overview, Data Preprocessing, and EDA\n",
    "3. **Modeling, Tuning, Cost Based Analysis and Recommendation**"
   ]
  },
  {
   "cell_type": "code",
   "execution_count": 360,
   "metadata": {},
   "outputs": [],
   "source": [
    "#dataset\n",
    "df = pd.read_csv('../data/overall_data.csv')\n",
    "c_df = pd.read_csv('../data/c_data.csv')\n",
    "nw_df = pd.read_csv('../data/nw_data.csv')\n",
    "ne_df = pd.read_csv('../data/ne_data.csv')\n",
    "sw_df = pd.read_csv('../data/sw_data.csv')\n",
    "se_df = pd.read_csv('../data/se_data.csv')"
   ]
  },
  {
   "cell_type": "code",
   "execution_count": 361,
   "metadata": {},
   "outputs": [
    {
     "data": {
      "text/html": [
       "<div>\n",
       "<style scoped>\n",
       "    .dataframe tbody tr th:only-of-type {\n",
       "        vertical-align: middle;\n",
       "    }\n",
       "\n",
       "    .dataframe tbody tr th {\n",
       "        vertical-align: top;\n",
       "    }\n",
       "\n",
       "    .dataframe thead th {\n",
       "        text-align: right;\n",
       "    }\n",
       "</style>\n",
       "<table border=\"1\" class=\"dataframe\">\n",
       "  <thead>\n",
       "    <tr style=\"text-align: right;\">\n",
       "      <th></th>\n",
       "      <th>Date</th>\n",
       "      <th>Number Of Cases</th>\n",
       "      <th>Cluster Number</th>\n",
       "      <th>Daily Rainfall Total (mm)</th>\n",
       "      <th>Highest 30 min Rainfall (mm)</th>\n",
       "      <th>Highest 60 min Rainfall (mm)</th>\n",
       "      <th>Highest 120 min Rainfall (mm)</th>\n",
       "      <th>Mean Temperature (°C)</th>\n",
       "      <th>Maximum Temperature (°C)</th>\n",
       "      <th>Minimum Temperature (°C)</th>\n",
       "      <th>...</th>\n",
       "      <th>Month_3</th>\n",
       "      <th>Month_4</th>\n",
       "      <th>Month_5</th>\n",
       "      <th>Month_6</th>\n",
       "      <th>Month_7</th>\n",
       "      <th>Month_8</th>\n",
       "      <th>Month_9</th>\n",
       "      <th>Month_10</th>\n",
       "      <th>Month_11</th>\n",
       "      <th>Month_12</th>\n",
       "    </tr>\n",
       "  </thead>\n",
       "  <tbody>\n",
       "    <tr>\n",
       "      <th>0</th>\n",
       "      <td>2015-26</td>\n",
       "      <td>172</td>\n",
       "      <td>9</td>\n",
       "      <td>6.463333</td>\n",
       "      <td>4.476667</td>\n",
       "      <td>5.250000</td>\n",
       "      <td>6.023333</td>\n",
       "      <td>28.555819</td>\n",
       "      <td>31.257000</td>\n",
       "      <td>25.332417</td>\n",
       "      <td>...</td>\n",
       "      <td>0.0</td>\n",
       "      <td>0.0</td>\n",
       "      <td>0.0</td>\n",
       "      <td>0.0</td>\n",
       "      <td>1.0</td>\n",
       "      <td>0.0</td>\n",
       "      <td>0.0</td>\n",
       "      <td>0.0</td>\n",
       "      <td>0.0</td>\n",
       "      <td>0.0</td>\n",
       "    </tr>\n",
       "    <tr>\n",
       "      <th>1</th>\n",
       "      <td>2015-28</td>\n",
       "      <td>248</td>\n",
       "      <td>9</td>\n",
       "      <td>3.800000</td>\n",
       "      <td>2.326190</td>\n",
       "      <td>2.461905</td>\n",
       "      <td>2.802381</td>\n",
       "      <td>29.038610</td>\n",
       "      <td>32.152976</td>\n",
       "      <td>26.605952</td>\n",
       "      <td>...</td>\n",
       "      <td>0.0</td>\n",
       "      <td>0.0</td>\n",
       "      <td>0.0</td>\n",
       "      <td>0.0</td>\n",
       "      <td>1.0</td>\n",
       "      <td>0.0</td>\n",
       "      <td>0.0</td>\n",
       "      <td>0.0</td>\n",
       "      <td>0.0</td>\n",
       "      <td>0.0</td>\n",
       "    </tr>\n",
       "    <tr>\n",
       "      <th>2</th>\n",
       "      <td>2015-31</td>\n",
       "      <td>347</td>\n",
       "      <td>13</td>\n",
       "      <td>17.777381</td>\n",
       "      <td>11.326190</td>\n",
       "      <td>12.895238</td>\n",
       "      <td>14.111905</td>\n",
       "      <td>27.174624</td>\n",
       "      <td>30.322798</td>\n",
       "      <td>23.981310</td>\n",
       "      <td>...</td>\n",
       "      <td>0.0</td>\n",
       "      <td>0.0</td>\n",
       "      <td>0.0</td>\n",
       "      <td>0.0</td>\n",
       "      <td>0.0</td>\n",
       "      <td>1.0</td>\n",
       "      <td>0.0</td>\n",
       "      <td>0.0</td>\n",
       "      <td>0.0</td>\n",
       "      <td>0.0</td>\n",
       "    </tr>\n",
       "    <tr>\n",
       "      <th>3</th>\n",
       "      <td>2015-32</td>\n",
       "      <td>395</td>\n",
       "      <td>15</td>\n",
       "      <td>1.291667</td>\n",
       "      <td>0.700000</td>\n",
       "      <td>0.754762</td>\n",
       "      <td>0.795238</td>\n",
       "      <td>28.297995</td>\n",
       "      <td>31.640298</td>\n",
       "      <td>25.999048</td>\n",
       "      <td>...</td>\n",
       "      <td>0.0</td>\n",
       "      <td>0.0</td>\n",
       "      <td>0.0</td>\n",
       "      <td>0.0</td>\n",
       "      <td>0.0</td>\n",
       "      <td>1.0</td>\n",
       "      <td>0.0</td>\n",
       "      <td>0.0</td>\n",
       "      <td>0.0</td>\n",
       "      <td>0.0</td>\n",
       "    </tr>\n",
       "    <tr>\n",
       "      <th>4</th>\n",
       "      <td>2015-33</td>\n",
       "      <td>116</td>\n",
       "      <td>20</td>\n",
       "      <td>1.390476</td>\n",
       "      <td>1.102381</td>\n",
       "      <td>1.109524</td>\n",
       "      <td>1.109524</td>\n",
       "      <td>28.742857</td>\n",
       "      <td>31.969048</td>\n",
       "      <td>26.248036</td>\n",
       "      <td>...</td>\n",
       "      <td>0.0</td>\n",
       "      <td>0.0</td>\n",
       "      <td>0.0</td>\n",
       "      <td>0.0</td>\n",
       "      <td>0.0</td>\n",
       "      <td>1.0</td>\n",
       "      <td>0.0</td>\n",
       "      <td>0.0</td>\n",
       "      <td>0.0</td>\n",
       "      <td>0.0</td>\n",
       "    </tr>\n",
       "  </tbody>\n",
       "</table>\n",
       "<p>5 rows × 29 columns</p>\n",
       "</div>"
      ],
      "text/plain": [
       "      Date  Number Of Cases  Cluster Number  Daily Rainfall Total (mm)  \\\n",
       "0  2015-26              172               9                   6.463333   \n",
       "1  2015-28              248               9                   3.800000   \n",
       "2  2015-31              347              13                  17.777381   \n",
       "3  2015-32              395              15                   1.291667   \n",
       "4  2015-33              116              20                   1.390476   \n",
       "\n",
       "   Highest 30 min Rainfall (mm)  Highest 60 min Rainfall (mm)  \\\n",
       "0                      4.476667                      5.250000   \n",
       "1                      2.326190                      2.461905   \n",
       "2                     11.326190                     12.895238   \n",
       "3                      0.700000                      0.754762   \n",
       "4                      1.102381                      1.109524   \n",
       "\n",
       "   Highest 120 min Rainfall (mm)  Mean Temperature (°C)  \\\n",
       "0                       6.023333              28.555819   \n",
       "1                       2.802381              29.038610   \n",
       "2                      14.111905              27.174624   \n",
       "3                       0.795238              28.297995   \n",
       "4                       1.109524              28.742857   \n",
       "\n",
       "   Maximum Temperature (°C)  Minimum Temperature (°C)  ...  Month_3  Month_4  \\\n",
       "0                 31.257000                 25.332417  ...      0.0      0.0   \n",
       "1                 32.152976                 26.605952  ...      0.0      0.0   \n",
       "2                 30.322798                 23.981310  ...      0.0      0.0   \n",
       "3                 31.640298                 25.999048  ...      0.0      0.0   \n",
       "4                 31.969048                 26.248036  ...      0.0      0.0   \n",
       "\n",
       "   Month_5  Month_6  Month_7  Month_8  Month_9  Month_10  Month_11  Month_12  \n",
       "0      0.0      0.0      1.0      0.0      0.0       0.0       0.0       0.0  \n",
       "1      0.0      0.0      1.0      0.0      0.0       0.0       0.0       0.0  \n",
       "2      0.0      0.0      0.0      1.0      0.0       0.0       0.0       0.0  \n",
       "3      0.0      0.0      0.0      1.0      0.0       0.0       0.0       0.0  \n",
       "4      0.0      0.0      0.0      1.0      0.0       0.0       0.0       0.0  \n",
       "\n",
       "[5 rows x 29 columns]"
      ]
     },
     "execution_count": 361,
     "metadata": {},
     "output_type": "execute_result"
    }
   ],
   "source": [
    "c_df.head()"
   ]
  },
  {
   "cell_type": "markdown",
   "metadata": {},
   "source": [
    "## Modeling"
   ]
  },
  {
   "cell_type": "markdown",
   "metadata": {},
   "source": [
    "### Baseline Model"
   ]
  },
  {
   "cell_type": "code",
   "execution_count": 362,
   "metadata": {},
   "outputs": [
    {
     "data": {
      "text/plain": [
       "140.54941857373487"
      ]
     },
     "execution_count": 362,
     "metadata": {},
     "output_type": "execute_result"
    }
   ],
   "source": [
    "y_mean = df['Number Of Cases'].mean()\n",
    "np.sqrt(((df['Number Of Cases']-y_mean)**2).sum()/df.shape[0]) #rmse"
   ]
  },
  {
   "cell_type": "markdown",
   "metadata": {},
   "source": [
    "### Using Linear Regression (disregarding the time series dependencies)"
   ]
  },
  {
   "cell_type": "markdown",
   "metadata": {},
   "source": [
    "This model will disregard the time series dependency and treat every row as an input"
   ]
  },
  {
   "cell_type": "code",
   "execution_count": 363,
   "metadata": {},
   "outputs": [],
   "source": [
    "dataset = [c_df,nw_df,ne_df,sw_df,se_df]\n",
    "def train_test(df):\n",
    "    features = ['Daily Rainfall Total (mm)', 'Highest 30 min Rainfall (mm)',\n",
    "       'Highest 60 min Rainfall (mm)', 'Highest 120 min Rainfall (mm)',\n",
    "       'Mean Temperature (°C)', 'Maximum Temperature (°C)',\n",
    "       'Minimum Temperature (°C)', 'Mean Wind Speed (km/h)',\n",
    "       'Max Wind Speed (km/h)', 'Dengue fever: (Singapore)',\n",
    "       'headache: (Singapore)', 'Nausea: (Singapore)',\n",
    "       'Mosquito bite: (Singapore)', 'Skin rash: (Singapore)', 'Month_1',\n",
    "       'Month_2', 'Month_3', 'Month_4', 'Month_5', 'Month_6', 'Month_7',\n",
    "       'Month_8', 'Month_9', 'Month_10', 'Month_11', 'Month_12'\n",
    "    ]\n",
    "    X = df[features]\n",
    "    y = df['Number Of Cases']\n",
    "\n",
    "    X_train, X_test, y_train, y_test = train_test_split(X, y, random_state=42,test_size=0.2) #to make sure no data leakage\n",
    "    return X_train, X_test, y_train, y_test\n",
    "\n",
    "def linear_regression(df):\n",
    "    X_train, X_test, y_train, y_test  = train_test(df)\n",
    "    \n",
    "    model_1_pipe = Pipeline([\n",
    "        ('ss',StandardScaler()),\n",
    "        ('lr',LinearRegression())\n",
    "    ])\n",
    "    model_1_pipe.fit(X_train,y_train);\n",
    "    train_acc = model_1_pipe.score(X_train,y_train)\n",
    "    test_acc = model_1_pipe.score(X_test,y_test)\n",
    "    y_pred = model_1_pipe.predict(X_test)\n",
    "    rmse = mean_squared_error(y_test, y_pred,squared=False)\n",
    "    \n",
    "    fig, ax = plt.subplots(figsize=(5,5))\n",
    "    ax.scatter(y_test, y_pred,s=5)\n",
    "    ax.set_title('Linear Regression Prediction Distribution',fontsize=14)\n",
    "    ax.set_xlabel('True Number of Cases',fontsize=10)\n",
    "    ax.set_ylabel('Predicted Number of Cases',fontsize=10)\n",
    "    ax.plot(ax.get_xlim(), ax.get_ylim(), ls=\"--\", c=\"r\")\n",
    "\n",
    "    #output\n",
    "    print('Linear Model Score-------')\n",
    "    print(f'Train Score: {train_acc}; Test Score: {test_acc}')\n",
    "    print(f'RMSE for this model: {rmse}')\n",
    "    \n",
    "\n",
    "    return train_acc,test_acc,rmse"
   ]
  },
  {
   "cell_type": "markdown",
   "metadata": {},
   "source": [
    "#### Based on County"
   ]
  },
  {
   "cell_type": "code",
   "execution_count": 364,
   "metadata": {},
   "outputs": [
    {
     "name": "stdout",
     "output_type": "stream",
     "text": [
      "Linear Model Score-------\n",
      "Train Score: 0.7943252038533855; Test Score: 0.5683118776105374\n",
      "RMSE for this model: 67.87881032045229\n"
     ]
    },
    {
     "data": {
      "image/png": "[encoded data removed]",
      "text/plain": [
       "<Figure size 360x360 with 1 Axes>"
      ]
     },
     "metadata": {
      "needs_background": "light"
     },
     "output_type": "display_data"
    }
   ],
   "source": [
    "#central \n",
    "\n",
    "c_train_score, c_test_score, c_rmse = linear_regression(c_df)"
   ]
  },
  {
   "cell_type": "code",
   "execution_count": 365,
   "metadata": {},
   "outputs": [
    {
     "name": "stdout",
     "output_type": "stream",
     "text": [
      "Linear Model Score-------\n",
      "Train Score: 0.5743972701004808; Test Score: 0.34780069925957735\n",
      "RMSE for this model: 97.63765803494279\n"
     ]
    },
    {
     "data": {
      "image/png": "[encoded data removed]",
      "text/plain": [
       "<Figure size 360x360 with 1 Axes>"
      ]
     },
     "metadata": {
      "needs_background": "light"
     },
     "output_type": "display_data"
    }
   ],
   "source": [
    "#northwest\n",
    "nw_train_score, nw_test_score, nw_rmse = linear_regression(nw_df)"
   ]
  },
  {
   "cell_type": "code",
   "execution_count": 366,
   "metadata": {},
   "outputs": [
    {
     "name": "stdout",
     "output_type": "stream",
     "text": [
      "Linear Model Score-------\n",
      "Train Score: 0.7777818016092128; Test Score: 0.7934085471752557\n",
      "RMSE for this model: 50.896109324245664\n"
     ]
    },
    {
     "data": {
      "image/png": "[encoded data removed]",
      "text/plain": [
       "<Figure size 360x360 with 1 Axes>"
      ]
     },
     "metadata": {
      "needs_background": "light"
     },
     "output_type": "display_data"
    }
   ],
   "source": [
    "#northeast\n",
    "ne_train_score, ne_test_score, ne_rmse = linear_regression(ne_df)"
   ]
  },
  {
   "cell_type": "code",
   "execution_count": 367,
   "metadata": {},
   "outputs": [
    {
     "name": "stdout",
     "output_type": "stream",
     "text": [
      "Linear Model Score-------\n",
      "Train Score: 0.7572663313283312; Test Score: 0.3495828796594196\n",
      "RMSE for this model: 57.639175813414624\n"
     ]
    },
    {
     "data": {
      "image/png": "[encoded data removed]",
      "text/plain": [
       "<Figure size 360x360 with 1 Axes>"
      ]
     },
     "metadata": {
      "needs_background": "light"
     },
     "output_type": "display_data"
    }
   ],
   "source": [
    "#southwest\n",
    "sw_train_score, sw_test_score, sw_rmse = linear_regression(sw_df)"
   ]
  },
  {
   "cell_type": "code",
   "execution_count": 368,
   "metadata": {},
   "outputs": [
    {
     "name": "stdout",
     "output_type": "stream",
     "text": [
      "Linear Model Score-------\n",
      "Train Score: 0.8548675930728233; Test Score: 0.7871043657191469\n",
      "RMSE for this model: 106.2031610264313\n"
     ]
    },
    {
     "data": {
      "image/png": "[encoded data removed]",
      "text/plain": [
       "<Figure size 360x360 with 1 Axes>"
      ]
     },
     "metadata": {
      "needs_background": "light"
     },
     "output_type": "display_data"
    }
   ],
   "source": [
    "#southeast\n",
    "se_train_score, se_test_score, se_rmse = linear_regression(se_df)"
   ]
  },
  {
   "cell_type": "markdown",
   "metadata": {},
   "source": [
    "#### Overall Data"
   ]
  },
  {
   "cell_type": "code",
   "execution_count": 369,
   "metadata": {},
   "outputs": [],
   "source": [
    "from sklearn.preprocessing import OneHotEncoder\n",
    "def encoding(df,col):\n",
    "    #one hot encode the month to be a feature\n",
    "    enc = OneHotEncoder(handle_unknown='ignore')\n",
    "\n",
    "    #perform one-hot encoding on 'Month' column \n",
    "    enc_df = pd.DataFrame(enc.fit_transform(df[[col]]).toarray(),columns=enc.get_feature_names_out())\n",
    "\n",
    "    #merge one-hot encoded columns back with original DataFrame\n",
    "    final_df = pd.concat([df.reset_index(),enc_df],axis=1)\n",
    "    final_df.drop(columns = col,inplace=True)\n",
    "    final_df.set_index('Date',inplace=True)\n",
    "    return final_df\n",
    "\n",
    "df = encoding(df,'Month')\n",
    "df = encoding(df,'County')"
   ]
  },
  {
   "cell_type": "code",
   "execution_count": 370,
   "metadata": {},
   "outputs": [
    {
     "name": "stdout",
     "output_type": "stream",
     "text": [
      "Linear Model Score-------\n",
      "Train Score: 0.5365282209480159; Test Score: 0.5022126060740288\n",
      "RMSE for this model: 81.71082930922368\n"
     ]
    },
    {
     "data": {
      "image/png": "[encoded data removed]",
      "text/plain": [
       "<Figure size 360x360 with 1 Axes>"
      ]
     },
     "metadata": {
      "needs_background": "light"
     },
     "output_type": "display_data"
    }
   ],
   "source": [
    "overall_train_score, overall_test_score, overall_rmse = linear_regression(df)"
   ]
  },
  {
   "cell_type": "markdown",
   "metadata": {},
   "source": [
    "Compared to baseline model, observed an improvement of RMSE on both the overall and separated model based on county. Although overall data accuracy lies at 53%, we observed signi"
   ]
  },
  {
   "cell_type": "markdown",
   "metadata": {},
   "source": [
    "## Long Short Term Mermory (LSTM)\n",
    "Using deep learning to try forecasting number of dengue case"
   ]
  },
  {
   "cell_type": "markdown",
   "metadata": {},
   "source": [
    "#### Central County"
   ]
  },
  {
   "cell_type": "code",
   "execution_count": 516,
   "metadata": {},
   "outputs": [],
   "source": [
    "c_train = c_df.drop(columns=['Date']).iloc[:150]\n",
    "c_test = c_df.drop(columns=['Date']).iloc[150:]\n",
    "mm = StandardScaler()\n",
    "c_train_sc = mm.fit_transform(c_train)\n",
    "c_test_sc = mm.transform(c_test)\n"
   ]
  },
  {
   "cell_type": "code",
   "execution_count": 517,
   "metadata": {},
   "outputs": [
    {
     "name": "stdout",
     "output_type": "stream",
     "text": [
      "train X shape = (146, 4, 27)\n",
      "train Y shape = (146, 1)\n",
      "test X shape = (35, 4, 27)\n",
      "test Y shape = (35, 1)\n"
     ]
    }
   ],
   "source": [
    "n_past = 4\n",
    "n_future = 1\n",
    "trainX = []\n",
    "trainY = []\n",
    "testX = []\n",
    "testY = []\n",
    "\n",
    "#transforming dta to a 3 dimensional moving data as per required by our model\n",
    "for i in range(n_past, len(c_train_sc)- n_future + 1):\n",
    "    trainX.append(c_train_sc[i - n_past:i,1:c_train_sc.shape[1]])\n",
    "    trainY.append(c_train_sc[(i + n_future-1): (i + n_future),0])\n",
    "\n",
    "trainX,trainY = np.array(trainX),np.array(trainY) #taking past 4 week data to predict the next (5th one) and so one\n",
    "for i in range(n_past, len(c_test_sc)- n_future + 1):\n",
    "    testX.append(c_test_sc[i - n_past:i,1:c_test_sc.shape[1]])\n",
    "    testY.append(c_test_sc[(i + n_future-1): (i + n_future),0])\n",
    "testX,testY = np.array(testX),np.array(testY)\n",
    "print(f'train X shape = {trainX.shape}')\n",
    "print(f'train Y shape = {trainY.shape}') #4rows missing \n",
    "print(f'test X shape = {testX.shape}')\n",
    "print(f'test Y shape = {testY.shape}') #4rows missing "
   ]
  },
  {
   "cell_type": "code",
   "execution_count": 518,
   "metadata": {},
   "outputs": [
    {
     "name": "stdout",
     "output_type": "stream",
     "text": [
      "Model: \"sequential_25\"\n",
      "_________________________________________________________________\n",
      " Layer (type)                Output Shape              Param #   \n",
      "=================================================================\n",
      " lstm_47 (LSTM)              (None, 4, 64)             23552     \n",
      "                                                                 \n",
      " lstm_48 (LSTM)              (None, 32)                12416     \n",
      "                                                                 \n",
      " dense_24 (Dense)            (None, 1)                 33        \n",
      "                                                                 \n",
      "=================================================================\n",
      "Total params: 36,001\n",
      "Trainable params: 36,001\n",
      "Non-trainable params: 0\n",
      "_________________________________________________________________\n"
     ]
    }
   ],
   "source": [
    "model = Sequential()\n",
    "model.add(LSTM(64,activation='relu',input_shape=(trainX.shape[1],trainX.shape[2]),return_sequences=True)) #would like to have next LSTM to feed this output\n",
    "model.add(LSTM(32,activation='relu',return_sequences=False))\n",
    "#model.add(Dropout(0.2)) \n",
    "model.add(Dense(1))\n",
    "\n",
    "opt = Adam(learning_rate=0.001)\n",
    "model.compile(loss='mse', optimizer=opt)\n",
    "model.summary()"
   ]
  },
  {
   "cell_type": "code",
   "execution_count": 519,
   "metadata": {},
   "outputs": [
    {
     "name": "stdout",
     "output_type": "stream",
     "text": [
      "Epoch 1/20\n",
      "15/15 [==============================] - 9s 42ms/step - loss: 0.6722 - val_loss: 8.2576\n",
      "Epoch 2/20\n",
      "15/15 [==============================] - 0s 20ms/step - loss: 0.3863 - val_loss: 5.3561\n",
      "Epoch 3/20\n",
      "15/15 [==============================] - 0s 12ms/step - loss: 0.2043 - val_loss: 4.8228\n",
      "Epoch 4/20\n",
      "15/15 [==============================] - 0s 12ms/step - loss: 0.1092 - val_loss: 4.2181\n",
      "Epoch 5/20\n",
      "15/15 [==============================] - 0s 8ms/step - loss: 0.0589 - val_loss: 3.7071\n",
      "Epoch 6/20\n",
      "15/15 [==============================] - 0s 10ms/step - loss: 0.0333 - val_loss: 3.9287\n",
      "Epoch 7/20\n",
      "15/15 [==============================] - 0s 8ms/step - loss: 0.0261 - val_loss: 3.7467\n",
      "Epoch 8/20\n",
      "15/15 [==============================] - 0s 8ms/step - loss: 0.0223 - val_loss: 3.6734\n",
      "Epoch 9/20\n",
      "15/15 [==============================] - 0s 8ms/step - loss: 0.0198 - val_loss: 4.0386\n",
      "Epoch 10/20\n",
      "15/15 [==============================] - 0s 8ms/step - loss: 0.0197 - val_loss: 4.0117\n",
      "Epoch 11/20\n",
      "15/15 [==============================] - 0s 8ms/step - loss: 0.0154 - val_loss: 3.9086\n",
      "Epoch 12/20\n",
      "15/15 [==============================] - 0s 10ms/step - loss: 0.0144 - val_loss: 3.8863\n",
      "Epoch 13/20\n",
      "15/15 [==============================] - 0s 10ms/step - loss: 0.0145 - val_loss: 4.2918\n",
      "Epoch 14/20\n",
      "15/15 [==============================] - 0s 10ms/step - loss: 0.0167 - val_loss: 3.7020\n",
      "Epoch 15/20\n",
      "15/15 [==============================] - 0s 9ms/step - loss: 0.0141 - val_loss: 4.4397\n",
      "Epoch 16/20\n",
      "15/15 [==============================] - 0s 11ms/step - loss: 0.0145 - val_loss: 3.9054\n",
      "Epoch 17/20\n",
      "15/15 [==============================] - 0s 8ms/step - loss: 0.0126 - val_loss: 4.0270\n",
      "Epoch 18/20\n",
      "15/15 [==============================] - 0s 8ms/step - loss: 0.0106 - val_loss: 4.0346\n",
      "Epoch 19/20\n",
      "15/15 [==============================] - 0s 9ms/step - loss: 0.0097 - val_loss: 4.2765\n",
      "Epoch 20/20\n",
      "15/15 [==============================] - 0s 9ms/step - loss: 0.0092 - val_loss: 3.9417\n"
     ]
    },
    {
     "data": {
      "image/png": "[encoded data removed]",
      "text/plain": [
       "<Figure size 432x288 with 1 Axes>"
      ]
     },
     "metadata": {
      "needs_background": "light"
     },
     "output_type": "display_data"
    }
   ],
   "source": [
    "history = model.fit(trainX,trainY, validation_data=(testX, testY),epochs=20,batch_size=10, verbose=1)\n",
    "\n",
    "# summarize history for loss\n",
    "plt.plot(history.history['loss'])\n",
    "plt.plot(history.history['val_loss'])\n",
    "plt.title('model loss')\n",
    "plt.ylabel('loss')\n",
    "plt.xlabel('epoch')\n",
    "plt.legend(['train', 'test'], loc='upper right')\n",
    "plt.show()"
   ]
  },
  {
   "cell_type": "code",
   "execution_count": 520,
   "metadata": {},
   "outputs": [
    {
     "data": {
      "text/plain": [
       "(35, 4, 27)"
      ]
     },
     "execution_count": 520,
     "metadata": {},
     "output_type": "execute_result"
    }
   ],
   "source": [
    "testX.shape"
   ]
  },
  {
   "cell_type": "code",
   "execution_count": 521,
   "metadata": {},
   "outputs": [
    {
     "name": "stdout",
     "output_type": "stream",
     "text": [
      "2/2 [==============================] - 0s 16ms/step\n"
     ]
    }
   ],
   "source": [
    "# make a prediction\n",
    "y_pred = model.predict(testX)"
   ]
  },
  {
   "cell_type": "code",
   "execution_count": 525,
   "metadata": {},
   "outputs": [
    {
     "data": {
      "text/plain": [
       "(35, 28)"
      ]
     },
     "execution_count": 525,
     "metadata": {},
     "output_type": "execute_result"
    }
   ],
   "source": [
    "prediction_copies = np.repeat(y_pred, 28, axis=-1)\n",
    "prediction_copies.shape"
   ]
  },
  {
   "cell_type": "code",
   "execution_count": 526,
   "metadata": {},
   "outputs": [
    {
     "data": {
      "text/plain": [
       "(35, 28)"
      ]
     },
     "execution_count": 526,
     "metadata": {},
     "output_type": "execute_result"
    }
   ],
   "source": [
    "inv_yhat = mm.inverse_transform(prediction_copies) #inversing it back to actual number\n",
    "inv_yhat.shape"
   ]
  },
  {
   "cell_type": "code",
   "execution_count": 530,
   "metadata": {},
   "outputs": [
    {
     "data": {
      "text/plain": [
       "0    68.752747\n",
       "1     8.720560\n",
       "2     7.270863\n",
       "3     3.975279\n",
       "4     4.915041\n",
       "Name: 0, dtype: float32"
      ]
     },
     "execution_count": 530,
     "metadata": {},
     "output_type": "execute_result"
    }
   ],
   "source": [
    "inv_yhat = pd.DataFrame(inv_yhat)\n",
    "inv_yhat.iloc[0].head()"
   ]
  },
  {
   "cell_type": "code",
   "execution_count": 529,
   "metadata": {},
   "outputs": [
    {
     "data": {
      "text/plain": [
       "169.0134307750157"
      ]
     },
     "execution_count": 529,
     "metadata": {},
     "output_type": "execute_result"
    }
   ],
   "source": [
    "c_pred = pd.concat([c_test['Number Of Cases'].iloc[4:].reset_index(), inv_yhat.iloc[:,0].reset_index()], axis=1).drop(columns='index')\n",
    "c_pred.rename(columns={'Number Of Cases':'Actual',0:'Prediction'})\n",
    "mean_squared_error(c_test['Number Of Cases'].iloc[4:],inv_yhat.iloc[:,0],squared=False)"
   ]
  },
  {
   "cell_type": "markdown",
   "metadata": {},
   "source": [
    "It seems that RMSE score is significantly worst from our Linear Regression and baseline model for Central County. In this case, we will stop exploring on LSTM model. \n",
    "\n",
    "LSTM predicts future value based on previous sequential data where it recognizes patterns in data sequence. However, complex model such as LSTM and GRU **needs a lot more data to capture those patterns** (190 weeks data points are not sufficient)"
   ]
  },
  {
   "cell_type": "markdown",
   "metadata": {},
   "source": [
    "## Cost Based Analysis"
   ]
  },
  {
   "cell_type": "markdown",
   "metadata": {},
   "source": [
    "If you suspect yourself to have prolonged fever / potential dengue, one must do:\n",
    "1. See a doctor ($20-$100, will assume the middle cost of $50)\n",
    "2. Get a blood test done to assess platelet level and blood concentration ($70-80 at GP and $50-60 at Poly, will take $70)\n",
    "3. If blood platelet < 80,000, need to go to hospital (typically last 2-7 days, $700-1000 for Ward B: assuming we take 5 days $3500)\n",
    "\n",
    "Total Bill for Dengue: $3670\n",
    "\n",
    "Comparing to estimated cost for fogging in a county at aproximately $60000 (based on $250/ acre pricing), if the county is forecasted to have >17 cases based on our model, we will recommend fogging to be done in that location."
   ]
  },
  {
   "cell_type": "markdown",
   "metadata": {},
   "source": [
    "\n",
    "## Recommendation"
   ]
  },
  {
   "cell_type": "markdown",
   "metadata": {},
   "source": [
    "Although RMSE improvement is observed compared to our baseline model, our best model (Linear Regression) is far from perfect at 53% accuracy (RMSE ~82), we can recommend these additional features from other goverment body such as:\n",
    "1. Get Singapore population data by week \n",
    "2. List of stagnant water in Singapore\n",
    "3. Get the age of all HDB: older HDB, have more porous structure, can be a place for mosquito to breed\n",
    "\n",
    "Therefore, we would like to recommend NEA to spray more on **July-October and Dec-Feb** period as there is a trend of increase on these period and use forecasted weather to predict the following week case and give priority to those with **>17 cases predicted.**"
   ]
  }
 ],
 "metadata": {
  "kernelspec": {
   "display_name": "Python 3.10.6 64-bit",
   "language": "python",
   "name": "python3"
  },
  "language_info": {
   "codemirror_mode": {
    "name": "ipython",
    "version": 3
   },
   "file_extension": ".py",
   "mimetype": "text/x-python",
   "name": "python",
   "nbconvert_exporter": "python",
   "pygments_lexer": "ipython3",
   "version": "3.10.6"
  },
  "orig_nbformat": 4,
  "vscode": {
   "interpreter": {
    "hash": "aee8b7b246df8f9039afb4144a1f6fd8d2ca17a180786b69acc140d282b71a49"
   }
  }
 },
 "nbformat": 4,
 "nbformat_minor": 2
}
