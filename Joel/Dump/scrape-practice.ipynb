{
 "cells": [
  {
   "cell_type": "markdown",
   "metadata": {},
   "source": [
    "# Auto Scaper  "
   ]
  },
  {
   "cell_type": "markdown",
   "metadata": {},
   "source": [
    "http://www.weather.gov.sg/climate-historical-daily/"
   ]
  },
  {
   "cell_type": "code",
   "execution_count": 1,
   "metadata": {},
   "outputs": [
    {
     "name": "stdout",
     "output_type": "stream",
     "text": [
      "Requirement already satisfied: selenium in c:\\users\\redoc\\appdata\\local\\programs\\python\\python310\\lib\\site-packages (4.5.0)\n",
      "Requirement already satisfied: urllib3[socks]~=1.26 in c:\\users\\redoc\\appdata\\local\\programs\\python\\python310\\lib\\site-packages (from selenium) (1.26.12)\n",
      "Requirement already satisfied: certifi>=2021.10.8 in c:\\users\\redoc\\appdata\\local\\programs\\python\\python310\\lib\\site-packages (from selenium) (2022.9.24)\n",
      "Requirement already satisfied: trio-websocket~=0.9 in c:\\users\\redoc\\appdata\\local\\programs\\python\\python310\\lib\\site-packages (from selenium) (0.9.2)\n",
      "Requirement already satisfied: trio~=0.17 in c:\\users\\redoc\\appdata\\local\\programs\\python\\python310\\lib\\site-packages (from selenium) (0.22.0)\n",
      "Requirement already satisfied: attrs>=19.2.0 in c:\\users\\redoc\\appdata\\local\\programs\\python\\python310\\lib\\site-packages (from trio~=0.17->selenium) (22.1.0)\n",
      "Requirement already satisfied: sortedcontainers in c:\\users\\redoc\\appdata\\local\\programs\\python\\python310\\lib\\site-packages (from trio~=0.17->selenium) (2.4.0)\n",
      "Requirement already satisfied: exceptiongroup>=1.0.0rc9 in c:\\users\\redoc\\appdata\\local\\programs\\python\\python310\\lib\\site-packages (from trio~=0.17->selenium) (1.0.0rc9)\n",
      "Requirement already satisfied: async-generator>=1.9 in c:\\users\\redoc\\appdata\\local\\programs\\python\\python310\\lib\\site-packages (from trio~=0.17->selenium) (1.10)\n",
      "Requirement already satisfied: outcome in c:\\users\\redoc\\appdata\\local\\programs\\python\\python310\\lib\\site-packages (from trio~=0.17->selenium) (1.2.0)\n",
      "Requirement already satisfied: cffi>=1.14 in c:\\users\\redoc\\appdata\\local\\programs\\python\\python310\\lib\\site-packages (from trio~=0.17->selenium) (1.15.1)\n",
      "Requirement already satisfied: sniffio in c:\\users\\redoc\\appdata\\local\\programs\\python\\python310\\lib\\site-packages (from trio~=0.17->selenium) (1.3.0)\n",
      "Requirement already satisfied: idna in c:\\users\\redoc\\appdata\\local\\programs\\python\\python310\\lib\\site-packages (from trio~=0.17->selenium) (3.4)\n",
      "Requirement already satisfied: wsproto>=0.14 in c:\\users\\redoc\\appdata\\local\\programs\\python\\python310\\lib\\site-packages (from trio-websocket~=0.9->selenium) (1.2.0)\n",
      "Requirement already satisfied: PySocks!=1.5.7,<2.0,>=1.5.6 in c:\\users\\redoc\\appdata\\local\\programs\\python\\python310\\lib\\site-packages (from urllib3[socks]~=1.26->selenium) (1.7.1)\n",
      "Requirement already satisfied: pycparser in c:\\users\\redoc\\appdata\\local\\programs\\python\\python310\\lib\\site-packages (from cffi>=1.14->trio~=0.17->selenium) (2.21)\n",
      "Requirement already satisfied: h11<1,>=0.9.0 in c:\\users\\redoc\\appdata\\local\\programs\\python\\python310\\lib\\site-packages (from wsproto>=0.14->trio-websocket~=0.9->selenium) (0.14.0)\n",
      "Requirement already satisfied: chromedriver in c:\\users\\redoc\\appdata\\local\\programs\\python\\python310\\lib\\site-packages (2.24.1)\n",
      "Requirement already satisfied: webdriver-manager in c:\\users\\redoc\\appdata\\local\\programs\\python\\python310\\lib\\site-packages (3.8.4)\n",
      "Requirement already satisfied: tqdm in c:\\users\\redoc\\appdata\\local\\programs\\python\\python310\\lib\\site-packages (from webdriver-manager) (4.64.1)\n",
      "Requirement already satisfied: requests in c:\\users\\redoc\\appdata\\local\\programs\\python\\python310\\lib\\site-packages (from webdriver-manager) (2.28.1)\n",
      "Requirement already satisfied: python-dotenv in c:\\users\\redoc\\appdata\\local\\programs\\python\\python310\\lib\\site-packages (from webdriver-manager) (0.21.0)\n",
      "Requirement already satisfied: charset-normalizer<3,>=2 in c:\\users\\redoc\\appdata\\local\\programs\\python\\python310\\lib\\site-packages (from requests->webdriver-manager) (2.1.1)\n",
      "Requirement already satisfied: urllib3<1.27,>=1.21.1 in c:\\users\\redoc\\appdata\\local\\programs\\python\\python310\\lib\\site-packages (from requests->webdriver-manager) (1.26.12)\n",
      "Requirement already satisfied: idna<4,>=2.5 in c:\\users\\redoc\\appdata\\local\\programs\\python\\python310\\lib\\site-packages (from requests->webdriver-manager) (3.4)\n",
      "Requirement already satisfied: certifi>=2017.4.17 in c:\\users\\redoc\\appdata\\local\\programs\\python\\python310\\lib\\site-packages (from requests->webdriver-manager) (2022.9.24)\n",
      "Requirement already satisfied: colorama in c:\\users\\redoc\\appdata\\local\\programs\\python\\python310\\lib\\site-packages (from tqdm->webdriver-manager) (0.4.5)\n"
     ]
    }
   ],
   "source": [
    "import sys\n",
    "!{sys.executable} -m pip install selenium\n",
    "!{sys.executable} -m pip install chromedriver\n",
    "!{sys.executable} -m pip install webdriver-manager\n"
   ]
  },
  {
   "cell_type": "code",
   "execution_count": 2,
   "metadata": {},
   "outputs": [],
   "source": [
    "from selenium import webdriver\n",
    "from bs4 import BeautifulSoup as bs\n",
    "from pprint import pprint"
   ]
  },
  {
   "cell_type": "code",
   "execution_count": 37,
   "metadata": {},
   "outputs": [],
   "source": [
    "from selenium.webdriver.common.by import By\n"
   ]
  },
  {
   "cell_type": "code",
   "execution_count": 19,
   "metadata": {},
   "outputs": [],
   "source": [
    "from selenium.webdriver.support.ui import Select"
   ]
  },
  {
   "cell_type": "code",
   "execution_count": 3,
   "metadata": {},
   "outputs": [],
   "source": [
    "from webdriver_manager.chrome import ChromeDriverManager"
   ]
  },
  {
   "cell_type": "code",
   "execution_count": 134,
   "metadata": {},
   "outputs": [
    {
     "name": "stderr",
     "output_type": "stream",
     "text": [
      "C:\\Users\\redoc\\AppData\\Local\\Temp\\ipykernel_106884\\4224076169.py:2: DeprecationWarning: executable_path has been deprecated, please pass in a Service object\n",
      "  wd = webdriver.Chrome(ChromeDriverManager().install())\n"
     ]
    }
   ],
   "source": [
    "# install webdriver for Chrome with ChromeDriverManager\n",
    "wd = webdriver.Chrome(ChromeDriverManager().install())"
   ]
  },
  {
   "cell_type": "markdown",
   "metadata": {},
   "source": [
    "Scrape \n",
    "\n",
    "http://www.weather.gov.sg/climate-historical-daily/"
   ]
  },
  {
   "cell_type": "code",
   "execution_count": 113,
   "metadata": {},
   "outputs": [],
   "source": [
    "url = \"http://www.weather.gov.sg/climate-historical-daily/\""
   ]
  },
  {
   "cell_type": "code",
   "execution_count": 135,
   "metadata": {},
   "outputs": [],
   "source": [
    "# start and control a chrome browser to access the website \n",
    "wd.get(url)"
   ]
  },
  {
   "cell_type": "code",
   "execution_count": 136,
   "metadata": {},
   "outputs": [],
   "source": [
    "city = wd.find_element('id', 'cityname')"
   ]
  },
  {
   "cell_type": "code",
   "execution_count": 137,
   "metadata": {},
   "outputs": [],
   "source": [
    "city.send_keys('Admiralty') "
   ]
  },
  {
   "cell_type": "markdown",
   "metadata": {},
   "source": [
    "https://stackoverflow.com/questions/42870881/selenium-send-keys-text-selecting-from-dropdown-and-hit-enter"
   ]
  },
  {
   "cell_type": "code",
   "execution_count": 141,
   "metadata": {},
   "outputs": [],
   "source": [
    "select_box = wd.find_element(By.XPATH ,'//*[@id=\"cityname\"]')"
   ]
  },
  {
   "cell_type": "code",
   "execution_count": 142,
   "metadata": {},
   "outputs": [],
   "source": [
    "select_box.send_keys('Admiralty')"
   ]
  },
  {
   "cell_type": "code",
   "execution_count": 143,
   "metadata": {},
   "outputs": [],
   "source": [
    "button = wd.find_element('tag name','input')"
   ]
  },
  {
   "cell_type": "code",
   "execution_count": 144,
   "metadata": {},
   "outputs": [],
   "source": [
    "button.submit()"
   ]
  },
  {
   "cell_type": "code",
   "execution_count": 132,
   "metadata": {},
   "outputs": [],
   "source": [
    "button2 = wd.find_element(By.XPATH ,'//*[@id=\"display\"]')"
   ]
  },
  {
   "cell_type": "code",
   "execution_count": 133,
   "metadata": {},
   "outputs": [
    {
     "ename": "WebDriverException",
     "evalue": "Message: To submit an element, it must be nested inside a form element\n",
     "output_type": "error",
     "traceback": [
      "\u001b[1;31m---------------------------------------------------------------------------\u001b[0m",
      "\u001b[1;31mJavascriptException\u001b[0m                       Traceback (most recent call last)",
      "File \u001b[1;32mc:\\Users\\redoc\\AppData\\Local\\Programs\\Python\\Python310\\lib\\site-packages\\selenium\\webdriver\\remote\\webelement.py:103\u001b[0m, in \u001b[0;36mWebElement.submit\u001b[1;34m(self)\u001b[0m\n\u001b[0;32m    102\u001b[0m \u001b[39mtry\u001b[39;00m:\n\u001b[1;32m--> 103\u001b[0m     \u001b[39mself\u001b[39;49m\u001b[39m.\u001b[39;49m_parent\u001b[39m.\u001b[39;49mexecute_script(script, \u001b[39mself\u001b[39;49m)\n\u001b[0;32m    104\u001b[0m \u001b[39mexcept\u001b[39;00m JavascriptException:\n",
      "File \u001b[1;32mc:\\Users\\redoc\\AppData\\Local\\Programs\\Python\\Python310\\lib\\site-packages\\selenium\\webdriver\\remote\\webdriver.py:492\u001b[0m, in \u001b[0;36mWebDriver.execute_script\u001b[1;34m(self, script, *args)\u001b[0m\n\u001b[0;32m    490\u001b[0m command \u001b[39m=\u001b[39m Command\u001b[39m.\u001b[39mW3C_EXECUTE_SCRIPT\n\u001b[1;32m--> 492\u001b[0m \u001b[39mreturn\u001b[39;00m \u001b[39mself\u001b[39;49m\u001b[39m.\u001b[39;49mexecute(command, {\n\u001b[0;32m    493\u001b[0m     \u001b[39m'\u001b[39;49m\u001b[39mscript\u001b[39;49m\u001b[39m'\u001b[39;49m: script,\n\u001b[0;32m    494\u001b[0m     \u001b[39m'\u001b[39;49m\u001b[39margs\u001b[39;49m\u001b[39m'\u001b[39;49m: converted_args})[\u001b[39m'\u001b[39m\u001b[39mvalue\u001b[39m\u001b[39m'\u001b[39m]\n",
      "File \u001b[1;32mc:\\Users\\redoc\\AppData\\Local\\Programs\\Python\\Python310\\lib\\site-packages\\selenium\\webdriver\\remote\\webdriver.py:429\u001b[0m, in \u001b[0;36mWebDriver.execute\u001b[1;34m(self, driver_command, params)\u001b[0m\n\u001b[0;32m    428\u001b[0m \u001b[39mif\u001b[39;00m response:\n\u001b[1;32m--> 429\u001b[0m     \u001b[39mself\u001b[39;49m\u001b[39m.\u001b[39;49merror_handler\u001b[39m.\u001b[39;49mcheck_response(response)\n\u001b[0;32m    430\u001b[0m     response[\u001b[39m'\u001b[39m\u001b[39mvalue\u001b[39m\u001b[39m'\u001b[39m] \u001b[39m=\u001b[39m \u001b[39mself\u001b[39m\u001b[39m.\u001b[39m_unwrap_value(\n\u001b[0;32m    431\u001b[0m         response\u001b[39m.\u001b[39mget(\u001b[39m'\u001b[39m\u001b[39mvalue\u001b[39m\u001b[39m'\u001b[39m, \u001b[39mNone\u001b[39;00m))\n",
      "File \u001b[1;32mc:\\Users\\redoc\\AppData\\Local\\Programs\\Python\\Python310\\lib\\site-packages\\selenium\\webdriver\\remote\\errorhandler.py:243\u001b[0m, in \u001b[0;36mErrorHandler.check_response\u001b[1;34m(self, response)\u001b[0m\n\u001b[0;32m    242\u001b[0m     \u001b[39mraise\u001b[39;00m exception_class(message, screen, stacktrace, alert_text)  \u001b[39m# type: ignore[call-arg]  # mypy is not smart enough here\u001b[39;00m\n\u001b[1;32m--> 243\u001b[0m \u001b[39mraise\u001b[39;00m exception_class(message, screen, stacktrace)\n",
      "\u001b[1;31mJavascriptException\u001b[0m: Message: javascript error: Unable to find owning document\n  (Session info: chrome=107.0.5304.123)\nStacktrace:\nBacktrace:\n\tOrdinal0 [0x00E3ACD3+2075859]\n\tOrdinal0 [0x00DCEE61+1633889]\n\tOrdinal0 [0x00CCB7BD+571325]\n\tOrdinal0 [0x00CCE374+582516]\n\tOrdinal0 [0x00CCE225+582181]\n\tOrdinal0 [0x00CCEBA5+584613]\n\tOrdinal0 [0x00D2BF4F+966479]\n\tOrdinal0 [0x00D1731C+881436]\n\tOrdinal0 [0x00D2B56A+963946]\n\tOrdinal0 [0x00D17136+880950]\n\tOrdinal0 [0x00CEFEFD+720637]\n\tOrdinal0 [0x00CF0F3F+724799]\n\tGetHandleVerifier [0x010EEED2+2769538]\n\tGetHandleVerifier [0x010E0D95+2711877]\n\tGetHandleVerifier [0x00ECA03A+521194]\n\tGetHandleVerifier [0x00EC8DA0+516432]\n\tOrdinal0 [0x00DD682C+1665068]\n\tOrdinal0 [0x00DDB128+1683752]\n\tOrdinal0 [0x00DDB215+1683989]\n\tOrdinal0 [0x00DE6484+1729668]\n\tBaseThreadInitThunk [0x758B6939+25]\n\tRtlGetFullPathName_UEx [0x77728FD2+1218]\n\tRtlGetFullPathName_UEx [0x77728F9D+1165]\n",
      "\nDuring handling of the above exception, another exception occurred:\n",
      "\u001b[1;31mWebDriverException\u001b[0m                        Traceback (most recent call last)",
      "\u001b[1;32mc:\\Users\\redoc\\OneDrive\\Desktop\\DSI-Roughpaper\\0. project_4\\scrape-practice.ipynb Cell 20\u001b[0m in \u001b[0;36m<cell line: 1>\u001b[1;34m()\u001b[0m\n\u001b[1;32m----> <a href='vscode-notebook-cell:/c%3A/Users/redoc/OneDrive/Desktop/DSI-Roughpaper/0.%20project_4/scrape-practice.ipynb#Y115sZmlsZQ%3D%3D?line=0'>1</a>\u001b[0m button2\u001b[39m.\u001b[39;49msubmit()\n",
      "File \u001b[1;32mc:\\Users\\redoc\\AppData\\Local\\Programs\\Python\\Python310\\lib\\site-packages\\selenium\\webdriver\\remote\\webelement.py:105\u001b[0m, in \u001b[0;36mWebElement.submit\u001b[1;34m(self)\u001b[0m\n\u001b[0;32m    103\u001b[0m     \u001b[39mself\u001b[39m\u001b[39m.\u001b[39m_parent\u001b[39m.\u001b[39mexecute_script(script, \u001b[39mself\u001b[39m)\n\u001b[0;32m    104\u001b[0m \u001b[39mexcept\u001b[39;00m JavascriptException:\n\u001b[1;32m--> 105\u001b[0m     \u001b[39mraise\u001b[39;00m WebDriverException(\u001b[39m\"\u001b[39m\u001b[39mTo submit an element, it must be nested inside a form element\u001b[39m\u001b[39m\"\u001b[39m)\n",
      "\u001b[1;31mWebDriverException\u001b[0m: Message: To submit an element, it must be nested inside a form element\n"
     ]
    }
   ],
   "source": [
    "button2.submit()"
   ]
  },
  {
   "cell_type": "code",
   "execution_count": 78,
   "metadata": {},
   "outputs": [
    {
     "ename": "TypeError",
     "evalue": "'str' object is not callable",
     "output_type": "error",
     "traceback": [
      "\u001b[1;31m---------------------------------------------------------------------------\u001b[0m",
      "\u001b[1;31mTypeError\u001b[0m                                 Traceback (most recent call last)",
      "\u001b[1;32mc:\\Users\\redoc\\OneDrive\\Desktop\\DSI-Roughpaper\\0. project_4\\scrape-practice.ipynb Cell 15\u001b[0m in \u001b[0;36m<cell line: 1>\u001b[1;34m()\u001b[0m\n\u001b[1;32m----> <a href='vscode-notebook-cell:/c%3A/Users/redoc/OneDrive/Desktop/DSI-Roughpaper/0.%20project_4/scrape-practice.ipynb#Y105sZmlsZQ%3D%3D?line=0'>1</a>\u001b[0m wd\u001b[39m.\u001b[39mfind_element(By\u001b[39m.\u001b[39;49mXPATH(\u001b[39m\"\u001b[39;49m\u001b[39m//*[@id=\u001b[39;49m\u001b[39m'\u001b[39;49m\u001b[39mselectbox\u001b[39;49m\u001b[39m'\u001b[39;49m\u001b[39m]\u001b[39;49m\u001b[39m\"\u001b[39;49m))\u001b[39m.\u001b[39msend_keys(\u001b[39m\"\u001b[39m\u001b[39m#Admiralty\u001b[39m\u001b[39m\"\u001b[39m)\n",
      "\u001b[1;31mTypeError\u001b[0m: 'str' object is not callable"
     ]
    }
   ],
   "source": [
    "# wd.find_element(By.XPATH(\"//*[@id='selectbox']\")).send_keys(\"#Admiralty\")"
   ]
  },
  {
   "cell_type": "code",
   "execution_count": 152,
   "metadata": {},
   "outputs": [
    {
     "ename": "NoSuchElementException",
     "evalue": "Message: no such element: Unable to locate element: {\"method\":\"xpath\",\"selector\":\"//*[@id='cityname']/option[text()='Admiralty']\"}\n  (Session info: chrome=107.0.5304.123)\nStacktrace:\nBacktrace:\n\tOrdinal0 [0x00E3ACD3+2075859]\n\tOrdinal0 [0x00DCEE61+1633889]\n\tOrdinal0 [0x00CCB7BD+571325]\n\tOrdinal0 [0x00CFAC2F+764975]\n\tOrdinal0 [0x00CFAE1B+765467]\n\tOrdinal0 [0x00D2D0F2+970994]\n\tOrdinal0 [0x00D17364+881508]\n\tOrdinal0 [0x00D2B56A+963946]\n\tOrdinal0 [0x00D17136+880950]\n\tOrdinal0 [0x00CEFEFD+720637]\n\tOrdinal0 [0x00CF0F3F+724799]\n\tGetHandleVerifier [0x010EEED2+2769538]\n\tGetHandleVerifier [0x010E0D95+2711877]\n\tGetHandleVerifier [0x00ECA03A+521194]\n\tGetHandleVerifier [0x00EC8DA0+516432]\n\tOrdinal0 [0x00DD682C+1665068]\n\tOrdinal0 [0x00DDB128+1683752]\n\tOrdinal0 [0x00DDB215+1683989]\n\tOrdinal0 [0x00DE6484+1729668]\n\tBaseThreadInitThunk [0x758B6939+25]\n\tRtlGetFullPathName_UEx [0x77728FD2+1218]\n\tRtlGetFullPathName_UEx [0x77728F9D+1165]\n",
     "output_type": "error",
     "traceback": [
      "\u001b[1;31m---------------------------------------------------------------------------\u001b[0m",
      "\u001b[1;31mNoSuchElementException\u001b[0m                    Traceback (most recent call last)",
      "\u001b[1;32mc:\\Users\\redoc\\OneDrive\\Desktop\\DSI-Roughpaper\\0. project_4\\scrape-practice.ipynb Cell 22\u001b[0m in \u001b[0;36m<cell line: 1>\u001b[1;34m()\u001b[0m\n\u001b[1;32m----> <a href='vscode-notebook-cell:/c%3A/Users/redoc/OneDrive/Desktop/DSI-Roughpaper/0.%20project_4/scrape-practice.ipynb#Y116sZmlsZQ%3D%3D?line=0'>1</a>\u001b[0m wd\u001b[39m.\u001b[39;49mfind_element(By\u001b[39m.\u001b[39;49mXPATH, \u001b[39m\"\u001b[39;49m\u001b[39m//*[@id=\u001b[39;49m\u001b[39m'\u001b[39;49m\u001b[39mcityname\u001b[39;49m\u001b[39m'\u001b[39;49m\u001b[39m]/option[text()=\u001b[39;49m\u001b[39m'\u001b[39;49m\u001b[39mAdmiralty\u001b[39;49m\u001b[39m'\u001b[39;49m\u001b[39m]\u001b[39;49m\u001b[39m\"\u001b[39;49m)\n",
      "File \u001b[1;32mc:\\Users\\redoc\\AppData\\Local\\Programs\\Python\\Python310\\lib\\site-packages\\selenium\\webdriver\\remote\\webdriver.py:856\u001b[0m, in \u001b[0;36mWebDriver.find_element\u001b[1;34m(self, by, value)\u001b[0m\n\u001b[0;32m    853\u001b[0m     by \u001b[39m=\u001b[39m By\u001b[39m.\u001b[39mCSS_SELECTOR\n\u001b[0;32m    854\u001b[0m     value \u001b[39m=\u001b[39m \u001b[39m'\u001b[39m\u001b[39m[name=\u001b[39m\u001b[39m\"\u001b[39m\u001b[39m%s\u001b[39;00m\u001b[39m\"\u001b[39m\u001b[39m]\u001b[39m\u001b[39m'\u001b[39m \u001b[39m%\u001b[39m value\n\u001b[1;32m--> 856\u001b[0m \u001b[39mreturn\u001b[39;00m \u001b[39mself\u001b[39;49m\u001b[39m.\u001b[39;49mexecute(Command\u001b[39m.\u001b[39;49mFIND_ELEMENT, {\n\u001b[0;32m    857\u001b[0m     \u001b[39m'\u001b[39;49m\u001b[39musing\u001b[39;49m\u001b[39m'\u001b[39;49m: by,\n\u001b[0;32m    858\u001b[0m     \u001b[39m'\u001b[39;49m\u001b[39mvalue\u001b[39;49m\u001b[39m'\u001b[39;49m: value})[\u001b[39m'\u001b[39m\u001b[39mvalue\u001b[39m\u001b[39m'\u001b[39m]\n",
      "File \u001b[1;32mc:\\Users\\redoc\\AppData\\Local\\Programs\\Python\\Python310\\lib\\site-packages\\selenium\\webdriver\\remote\\webdriver.py:429\u001b[0m, in \u001b[0;36mWebDriver.execute\u001b[1;34m(self, driver_command, params)\u001b[0m\n\u001b[0;32m    427\u001b[0m response \u001b[39m=\u001b[39m \u001b[39mself\u001b[39m\u001b[39m.\u001b[39mcommand_executor\u001b[39m.\u001b[39mexecute(driver_command, params)\n\u001b[0;32m    428\u001b[0m \u001b[39mif\u001b[39;00m response:\n\u001b[1;32m--> 429\u001b[0m     \u001b[39mself\u001b[39;49m\u001b[39m.\u001b[39;49merror_handler\u001b[39m.\u001b[39;49mcheck_response(response)\n\u001b[0;32m    430\u001b[0m     response[\u001b[39m'\u001b[39m\u001b[39mvalue\u001b[39m\u001b[39m'\u001b[39m] \u001b[39m=\u001b[39m \u001b[39mself\u001b[39m\u001b[39m.\u001b[39m_unwrap_value(\n\u001b[0;32m    431\u001b[0m         response\u001b[39m.\u001b[39mget(\u001b[39m'\u001b[39m\u001b[39mvalue\u001b[39m\u001b[39m'\u001b[39m, \u001b[39mNone\u001b[39;00m))\n\u001b[0;32m    432\u001b[0m     \u001b[39mreturn\u001b[39;00m response\n",
      "File \u001b[1;32mc:\\Users\\redoc\\AppData\\Local\\Programs\\Python\\Python310\\lib\\site-packages\\selenium\\webdriver\\remote\\errorhandler.py:243\u001b[0m, in \u001b[0;36mErrorHandler.check_response\u001b[1;34m(self, response)\u001b[0m\n\u001b[0;32m    241\u001b[0m         alert_text \u001b[39m=\u001b[39m value[\u001b[39m'\u001b[39m\u001b[39malert\u001b[39m\u001b[39m'\u001b[39m]\u001b[39m.\u001b[39mget(\u001b[39m'\u001b[39m\u001b[39mtext\u001b[39m\u001b[39m'\u001b[39m)\n\u001b[0;32m    242\u001b[0m     \u001b[39mraise\u001b[39;00m exception_class(message, screen, stacktrace, alert_text)  \u001b[39m# type: ignore[call-arg]  # mypy is not smart enough here\u001b[39;00m\n\u001b[1;32m--> 243\u001b[0m \u001b[39mraise\u001b[39;00m exception_class(message, screen, stacktrace)\n",
      "\u001b[1;31mNoSuchElementException\u001b[0m: Message: no such element: Unable to locate element: {\"method\":\"xpath\",\"selector\":\"//*[@id='cityname']/option[text()='Admiralty']\"}\n  (Session info: chrome=107.0.5304.123)\nStacktrace:\nBacktrace:\n\tOrdinal0 [0x00E3ACD3+2075859]\n\tOrdinal0 [0x00DCEE61+1633889]\n\tOrdinal0 [0x00CCB7BD+571325]\n\tOrdinal0 [0x00CFAC2F+764975]\n\tOrdinal0 [0x00CFAE1B+765467]\n\tOrdinal0 [0x00D2D0F2+970994]\n\tOrdinal0 [0x00D17364+881508]\n\tOrdinal0 [0x00D2B56A+963946]\n\tOrdinal0 [0x00D17136+880950]\n\tOrdinal0 [0x00CEFEFD+720637]\n\tOrdinal0 [0x00CF0F3F+724799]\n\tGetHandleVerifier [0x010EEED2+2769538]\n\tGetHandleVerifier [0x010E0D95+2711877]\n\tGetHandleVerifier [0x00ECA03A+521194]\n\tGetHandleVerifier [0x00EC8DA0+516432]\n\tOrdinal0 [0x00DD682C+1665068]\n\tOrdinal0 [0x00DDB128+1683752]\n\tOrdinal0 [0x00DDB215+1683989]\n\tOrdinal0 [0x00DE6484+1729668]\n\tBaseThreadInitThunk [0x758B6939+25]\n\tRtlGetFullPathName_UEx [0x77728FD2+1218]\n\tRtlGetFullPathName_UEx [0x77728F9D+1165]\n"
     ]
    }
   ],
   "source": [
    "wd.find_element(By.XPATH, \"//*[@id='cityname']/option[text()='Admiralty']\")\n"
   ]
  },
  {
   "cell_type": "code",
   "execution_count": 156,
   "metadata": {},
   "outputs": [],
   "source": [
    "x = wd.find_element(By.XPATH, \"//*[@id='cityname']\")"
   ]
  },
  {
   "cell_type": "code",
   "execution_count": 157,
   "metadata": {},
   "outputs": [
    {
     "ename": "UnexpectedTagNameException",
     "evalue": "Message: Select only works on <select> elements, not on <button>\n",
     "output_type": "error",
     "traceback": [
      "\u001b[1;31m---------------------------------------------------------------------------\u001b[0m",
      "\u001b[1;31mUnexpectedTagNameException\u001b[0m                Traceback (most recent call last)",
      "\u001b[1;32mc:\\Users\\redoc\\OneDrive\\Desktop\\DSI-Roughpaper\\0. project_4\\scrape-practice.ipynb Cell 24\u001b[0m in \u001b[0;36m<cell line: 1>\u001b[1;34m()\u001b[0m\n\u001b[1;32m----> <a href='vscode-notebook-cell:/c%3A/Users/redoc/OneDrive/Desktop/DSI-Roughpaper/0.%20project_4/scrape-practice.ipynb#Y121sZmlsZQ%3D%3D?line=0'>1</a>\u001b[0m drop \u001b[39m=\u001b[39m Select(x)\n",
      "File \u001b[1;32mc:\\Users\\redoc\\AppData\\Local\\Programs\\Python\\Python310\\lib\\site-packages\\selenium\\webdriver\\support\\select.py:37\u001b[0m, in \u001b[0;36mSelect.__init__\u001b[1;34m(self, webelement)\u001b[0m\n\u001b[0;32m     25\u001b[0m \u001b[39m\"\"\"\u001b[39;00m\n\u001b[0;32m     26\u001b[0m \u001b[39mConstructor. A check is made that the given element is, indeed, a SELECT tag. If it is not,\u001b[39;00m\n\u001b[0;32m     27\u001b[0m \u001b[39mthen an UnexpectedTagNameException is thrown.\u001b[39;00m\n\u001b[1;32m   (...)\u001b[0m\n\u001b[0;32m     34\u001b[0m \u001b[39m    Select(driver.find_element(By.TAG_NAME, \"select\")).select_by_index(2)\u001b[39;00m\n\u001b[0;32m     35\u001b[0m \u001b[39m\"\"\"\u001b[39;00m\n\u001b[0;32m     36\u001b[0m \u001b[39mif\u001b[39;00m webelement\u001b[39m.\u001b[39mtag_name\u001b[39m.\u001b[39mlower() \u001b[39m!=\u001b[39m \u001b[39m\"\u001b[39m\u001b[39mselect\u001b[39m\u001b[39m\"\u001b[39m:\n\u001b[1;32m---> 37\u001b[0m     \u001b[39mraise\u001b[39;00m UnexpectedTagNameException(\n\u001b[0;32m     38\u001b[0m         \u001b[39m\"\u001b[39m\u001b[39mSelect only works on <select> elements, not on <\u001b[39m\u001b[39m%s\u001b[39;00m\u001b[39m>\u001b[39m\u001b[39m\"\u001b[39m \u001b[39m%\u001b[39m\n\u001b[0;32m     39\u001b[0m         webelement\u001b[39m.\u001b[39mtag_name)\n\u001b[0;32m     40\u001b[0m \u001b[39mif\u001b[39;00m \u001b[39mnot\u001b[39;00m webelement\u001b[39m.\u001b[39mis_enabled():\n\u001b[0;32m     41\u001b[0m     \u001b[39mraise\u001b[39;00m \u001b[39mNotImplementedError\u001b[39;00m(\u001b[39m\"\u001b[39m\u001b[39mSelect element is disabled and may not be used.\u001b[39m\u001b[39m\"\u001b[39m)\n",
      "\u001b[1;31mUnexpectedTagNameException\u001b[0m: Message: Select only works on <select> elements, not on <button>\n"
     ]
    }
   ],
   "source": [
    "drop = Select(x)"
   ]
  },
  {
   "cell_type": "markdown",
   "metadata": {},
   "source": [
    "---"
   ]
  },
  {
   "cell_type": "markdown",
   "metadata": {},
   "source": [
    "# Try"
   ]
  },
  {
   "cell_type": "markdown",
   "metadata": {},
   "source": [
    "https://www.youtube.com/watch?v=YWGyLGuY67g"
   ]
  },
  {
   "cell_type": "code",
   "execution_count": 25,
   "metadata": {},
   "outputs": [],
   "source": [
    "element = wd.find_element(\"id\",\"cityname\")"
   ]
  },
  {
   "cell_type": "code",
   "execution_count": 29,
   "metadata": {},
   "outputs": [
    {
     "data": {
      "text/plain": [
       "<selenium.webdriver.remote.webelement.WebElement (session=\"784ee4ad0b81497c31b086c4ba3eec94\", element=\"8a90c6ab-0741-458a-90b2-293a92877d18\")>"
      ]
     },
     "execution_count": 29,
     "metadata": {},
     "output_type": "execute_result"
    }
   ],
   "source": [
    "element"
   ]
  },
  {
   "cell_type": "code",
   "execution_count": 49,
   "metadata": {},
   "outputs": [],
   "source": [
    "element2 = wd.find_elements(By.ID,\"cityname\")"
   ]
  },
  {
   "cell_type": "code",
   "execution_count": 39,
   "metadata": {},
   "outputs": [
    {
     "data": {
      "text/plain": [
       "<selenium.webdriver.remote.webelement.WebElement (session=\"784ee4ad0b81497c31b086c4ba3eec94\", element=\"8a90c6ab-0741-458a-90b2-293a92877d18\")>"
      ]
     },
     "execution_count": 39,
     "metadata": {},
     "output_type": "execute_result"
    }
   ],
   "source": [
    "element2"
   ]
  },
  {
   "cell_type": "code",
   "execution_count": 42,
   "metadata": {},
   "outputs": [
    {
     "name": "stdout",
     "output_type": "stream",
     "text": [
      "<selenium.webdriver.remote.webelement.WebElement (session=\"784ee4ad0b81497c31b086c4ba3eec94\", element=\"8a90c6ab-0741-458a-90b2-293a92877d18\")>\n"
     ]
    }
   ],
   "source": [
    "print(element2)"
   ]
  },
  {
   "cell_type": "code",
   "execution_count": 50,
   "metadata": {},
   "outputs": [
    {
     "name": "stdout",
     "output_type": "stream",
     "text": [
      "Changi\n"
     ]
    }
   ],
   "source": [
    "for e in element2:\n",
    "    print(e.text)"
   ]
  },
  {
   "cell_type": "markdown",
   "metadata": {},
   "source": [
    "Only returned one location. Find the rest."
   ]
  },
  {
   "cell_type": "code",
   "execution_count": 54,
   "metadata": {},
   "outputs": [],
   "source": [
    "element3 = wd.find_elements(By.CLASS_NAME,\"dropdown-menu long-dropdown\")"
   ]
  },
  {
   "cell_type": "code",
   "execution_count": 55,
   "metadata": {},
   "outputs": [
    {
     "data": {
      "text/plain": [
       "[]"
      ]
     },
     "execution_count": 55,
     "metadata": {},
     "output_type": "execute_result"
    }
   ],
   "source": [
    "element3"
   ]
  },
  {
   "cell_type": "code",
   "execution_count": 53,
   "metadata": {},
   "outputs": [],
   "source": [
    "for e in element3:\n",
    "    print(e.text)"
   ]
  },
  {
   "cell_type": "markdown",
   "metadata": {},
   "source": [
    "---"
   ]
  },
  {
   "cell_type": "code",
   "execution_count": 56,
   "metadata": {},
   "outputs": [],
   "source": [
    "element4 = wd.find_elements(By.TAG_NAME,\"a\")"
   ]
  },
  {
   "cell_type": "code",
   "execution_count": 57,
   "metadata": {},
   "outputs": [
    {
     "name": "stdout",
     "output_type": "stream",
     "text": [
      "\n",
      "\n",
      "A-\n",
      "A+\n",
      "Contact Us\n",
      "WEATHER\n",
      "\n",
      "\n",
      "\n",
      "\n",
      "\n",
      "\n",
      "\n",
      "\n",
      "\n",
      "\n",
      "\n",
      "\n",
      "\n",
      "\n",
      "\n",
      "\n",
      "\n",
      "\n",
      "\n",
      "\n",
      "\n",
      "\n",
      "\n",
      "\n",
      "WARNINGS AND ADVISORIES\n",
      "\n",
      "\n",
      "\n",
      "\n",
      "\n",
      "\n",
      "CLIMATE\n",
      "\n",
      "\n",
      "\n",
      "\n",
      "\n",
      "\n",
      "\n",
      "\n",
      "\n",
      "\n",
      "\n",
      "\n",
      "\n",
      "LEARN\n",
      "\n",
      "\n",
      "\n",
      "\n",
      "\n",
      "\n",
      "\n",
      "\n",
      "\n",
      "\n",
      "\n",
      "\n",
      "ABOUT MSS\n",
      "\n",
      "\n",
      "\n",
      "\n",
      "\n",
      "\n",
      "\n",
      "\n",
      "\n",
      "\n",
      "FAQ\n",
      "Home\n",
      "Climate\n",
      "\n",
      "\n",
      "Admiralty\n",
      "Admiralty West\n",
      "Ang Mo Kio\n",
      "Boon Lay (East)\n",
      "Boon Lay (West)\n",
      "Botanic Garden\n",
      "Buangkok\n",
      "Bukit Panjang\n",
      "Bukit Timah\n",
      "Buona Vista\n",
      "Chai Chee\n",
      "Changi\n",
      "Choa Chu Kang (Central)\n",
      "Choa Chu Kang (South)\n",
      "Choa Chu Kang (West)\n",
      "Clementi\n",
      "Dhoby Ghaut\n",
      "East Coast Parkway\n",
      "Jurong (East)\n",
      "Jurong (North)\n",
      "Jurong (West)\n",
      "Jurong Island\n",
      "Jurong Pier\n",
      "Kampong Bahru\n",
      "Kent Ridge\n",
      "Khatib\n",
      "Kranji Reservoir\n",
      "Lim Chu Kang\n",
      "Lower Peirce Reservoir\n",
      "Macritchie Reservoir\n",
      "Mandai\n",
      "Marina Barrage\n",
      "Marine Parade\n",
      "Newton\n",
      "Nicoll Highway\n",
      "Pasir Panjang\n",
      "Pasir Ris (Central)\n",
      "Pasir Ris (West)\n",
      "Paya Lebar\n",
      "Pulau Ubin\n",
      "Punggol\n",
      "Queenstown\n",
      "Seletar\n",
      "Semakau Island\n",
      "Sembawang\n",
      "Sentosa Island\n",
      "Serangoon\n",
      "Serangoon North\n",
      "Simei\n",
      "Somerset (Road)\n",
      "Tai Seng\n",
      "Tanjong Katong\n",
      "Tanjong Pagar\n",
      "Tengah\n",
      "Toa Payoh\n",
      "Tuas\n",
      "Tuas South\n",
      "Tuas West\n",
      "Ulu Pandan\n",
      "Upper Peirce Reservoir\n",
      "Upper Thomson\n",
      "Whampoa\n",
      "Yishun\n",
      "\n",
      "\n",
      "\n",
      "\n",
      "\n",
      "\n",
      "\n",
      "\n",
      "\n",
      "\n",
      "\n",
      "\n",
      "\n",
      "\n",
      "\n",
      "\n",
      "\n",
      "\n",
      "\n",
      "\n",
      "\n",
      "\n",
      "\n",
      "\n",
      "\n",
      "\n",
      "\n",
      "\n",
      "\n",
      "\n",
      "\n",
      "\n",
      "\n",
      "\n",
      "\n",
      "\n",
      "\n",
      "\n",
      "\n",
      "\n",
      "\n",
      "\n",
      "\n",
      "\n",
      "\n",
      "\n",
      "\n",
      "\n",
      "\n",
      "\n",
      "\n",
      "\n",
      "\n",
      "CSV\n",
      "PDF\n",
      "here\n",
      "Historical Extremes\n",
      "Climate of Singapore\n",
      "Climate Maps\n",
      "Difference between weather and climate\n",
      "Function of a climate station\n",
      "Climate variability and climate change\n",
      "Our Organisation\n",
      "Organisation Structure\n",
      "Our Mission and Vision\n",
      "Corporate Logo\n",
      "Our History\n",
      "Corporate Video\n",
      "News\n",
      "Careers\n",
      "Visit Us\n",
      "Contact Us\n",
      "Forecasts\n",
      "Current Observations\n",
      "Rain Areas\n",
      "Satellite Images\n",
      "Lightning Information\n",
      "Marine Forecasts\n",
      "World Forecasts\n",
      "UV Index\n",
      "Astronomical Data and Tides\n",
      "Historical Daily Records\n",
      "Historical Extremes\n",
      "World Climate\n",
      "Climate Maps\n",
      "Climate Of Singapore\n",
      "Past Climate Trends\n",
      "Annual Reports\n",
      "El Niño / La Niña Status\n",
      "Heavy Rain Warning\n",
      "Haze Information\n",
      "Tropical Cyclone Information\n",
      "Regional Earthquakes/Tsunami\n",
      "Regional Volcanic Eruptions\n",
      "OVERVIEW\n",
      "Earth’s Atmosphere\n",
      "Winds\n",
      "Clouds\n",
      "Weather Systems\n",
      "Observing the Weather\n",
      "Severe Weather\n",
      "Forecasting\n",
      "Climate\n",
      "Optical Effects\n",
      "Tides\n",
      "Earthquakes and Volcanoes\n",
      "Centre for Climate Research Singapore\n",
      "ASEAN Specialised Meteorological Centre\n",
      "National Environment Agency\n",
      "Ministry of Sustainability and the Environment\n",
      "Login\n",
      "Terms of Use\n",
      "Privacy policy\n",
      "Rate this site\n",
      "Supported Browsers\n",
      "Report Vulnerability\n",
      "\n",
      "\n",
      "\n"
     ]
    }
   ],
   "source": [
    "for e in element4:\n",
    "    print(e.text)"
   ]
  },
  {
   "cell_type": "markdown",
   "metadata": {},
   "source": [
    "**The above works in pulling out citynames**"
   ]
  },
  {
   "cell_type": "markdown",
   "metadata": {},
   "source": [
    "---"
   ]
  },
  {
   "cell_type": "code",
   "execution_count": 63,
   "metadata": {},
   "outputs": [
    {
     "ename": "InvalidSelectorException",
     "evalue": "Message: invalid selector: Unable to locate an element with the xpath expression //a[@href=] because of the following error:\nSyntaxError: Failed to execute 'evaluate' on 'Document': The string '//a[@href=]' is not a valid XPath expression.\n  (Session info: chrome=107.0.5304.123)\nStacktrace:\nBacktrace:\n\tOrdinal0 [0x00E3ACD3+2075859]\n\tOrdinal0 [0x00DCEE61+1633889]\n\tOrdinal0 [0x00CCB7BD+571325]\n\tOrdinal0 [0x00CCE374+582516]\n\tOrdinal0 [0x00CCE225+582181]\n\tOrdinal0 [0x00CCE4C0+582848]\n\tOrdinal0 [0x00CFA9A2+764322]\n\tOrdinal0 [0x00CFAE1B+765467]\n\tOrdinal0 [0x00D2D12C+971052]\n\tOrdinal0 [0x00D17364+881508]\n\tOrdinal0 [0x00D2B56A+963946]\n\tOrdinal0 [0x00D17136+880950]\n\tOrdinal0 [0x00CEFEFD+720637]\n\tOrdinal0 [0x00CF0F3F+724799]\n\tGetHandleVerifier [0x010EEED2+2769538]\n\tGetHandleVerifier [0x010E0D95+2711877]\n\tGetHandleVerifier [0x00ECA03A+521194]\n\tGetHandleVerifier [0x00EC8DA0+516432]\n\tOrdinal0 [0x00DD682C+1665068]\n\tOrdinal0 [0x00DDB128+1683752]\n\tOrdinal0 [0x00DDB215+1683989]\n\tOrdinal0 [0x00DE6484+1729668]\n\tBaseThreadInitThunk [0x758B6939+25]\n\tRtlGetFullPathName_UEx [0x77728FD2+1218]\n\tRtlGetFullPathName_UEx [0x77728F9D+1165]\n",
     "output_type": "error",
     "traceback": [
      "\u001b[1;31m---------------------------------------------------------------------------\u001b[0m",
      "\u001b[1;31mInvalidSelectorException\u001b[0m                  Traceback (most recent call last)",
      "\u001b[1;32mc:\\Users\\redoc\\OneDrive\\Desktop\\DSI-Roughpaper\\0. project_4\\scrape-practice.ipynb Cell 33\u001b[0m in \u001b[0;36m<cell line: 1>\u001b[1;34m()\u001b[0m\n\u001b[1;32m----> <a href='vscode-notebook-cell:/c%3A/Users/redoc/OneDrive/Desktop/DSI-Roughpaper/0.%20project_4/scrape-practice.ipynb#X65sZmlsZQ%3D%3D?line=0'>1</a>\u001b[0m element5 \u001b[39m=\u001b[39m wd\u001b[39m.\u001b[39;49mfind_elements(By\u001b[39m.\u001b[39;49mXPATH,\u001b[39m'\u001b[39;49m\u001b[39m//a[@href=\u001b[39;49m\u001b[39m'\u001b[39;49m\u001b[39m+\u001b[39;49m\u001b[39m'\u001b[39;49m\u001b[39m]\u001b[39;49m\u001b[39m'\u001b[39;49m)\n",
      "File \u001b[1;32mc:\\Users\\redoc\\AppData\\Local\\Programs\\Python\\Python310\\lib\\site-packages\\selenium\\webdriver\\remote\\webdriver.py:889\u001b[0m, in \u001b[0;36mWebDriver.find_elements\u001b[1;34m(self, by, value)\u001b[0m\n\u001b[0;32m    885\u001b[0m     value \u001b[39m=\u001b[39m \u001b[39m'\u001b[39m\u001b[39m[name=\u001b[39m\u001b[39m\"\u001b[39m\u001b[39m%s\u001b[39;00m\u001b[39m\"\u001b[39m\u001b[39m]\u001b[39m\u001b[39m'\u001b[39m \u001b[39m%\u001b[39m value\n\u001b[0;32m    887\u001b[0m \u001b[39m# Return empty list if driver returns null\u001b[39;00m\n\u001b[0;32m    888\u001b[0m \u001b[39m# See https://github.com/SeleniumHQ/selenium/issues/4555\u001b[39;00m\n\u001b[1;32m--> 889\u001b[0m \u001b[39mreturn\u001b[39;00m \u001b[39mself\u001b[39;49m\u001b[39m.\u001b[39;49mexecute(Command\u001b[39m.\u001b[39;49mFIND_ELEMENTS, {\n\u001b[0;32m    890\u001b[0m     \u001b[39m'\u001b[39;49m\u001b[39musing\u001b[39;49m\u001b[39m'\u001b[39;49m: by,\n\u001b[0;32m    891\u001b[0m     \u001b[39m'\u001b[39;49m\u001b[39mvalue\u001b[39;49m\u001b[39m'\u001b[39;49m: value})[\u001b[39m'\u001b[39m\u001b[39mvalue\u001b[39m\u001b[39m'\u001b[39m] \u001b[39mor\u001b[39;00m []\n",
      "File \u001b[1;32mc:\\Users\\redoc\\AppData\\Local\\Programs\\Python\\Python310\\lib\\site-packages\\selenium\\webdriver\\remote\\webdriver.py:429\u001b[0m, in \u001b[0;36mWebDriver.execute\u001b[1;34m(self, driver_command, params)\u001b[0m\n\u001b[0;32m    427\u001b[0m response \u001b[39m=\u001b[39m \u001b[39mself\u001b[39m\u001b[39m.\u001b[39mcommand_executor\u001b[39m.\u001b[39mexecute(driver_command, params)\n\u001b[0;32m    428\u001b[0m \u001b[39mif\u001b[39;00m response:\n\u001b[1;32m--> 429\u001b[0m     \u001b[39mself\u001b[39;49m\u001b[39m.\u001b[39;49merror_handler\u001b[39m.\u001b[39;49mcheck_response(response)\n\u001b[0;32m    430\u001b[0m     response[\u001b[39m'\u001b[39m\u001b[39mvalue\u001b[39m\u001b[39m'\u001b[39m] \u001b[39m=\u001b[39m \u001b[39mself\u001b[39m\u001b[39m.\u001b[39m_unwrap_value(\n\u001b[0;32m    431\u001b[0m         response\u001b[39m.\u001b[39mget(\u001b[39m'\u001b[39m\u001b[39mvalue\u001b[39m\u001b[39m'\u001b[39m, \u001b[39mNone\u001b[39;00m))\n\u001b[0;32m    432\u001b[0m     \u001b[39mreturn\u001b[39;00m response\n",
      "File \u001b[1;32mc:\\Users\\redoc\\AppData\\Local\\Programs\\Python\\Python310\\lib\\site-packages\\selenium\\webdriver\\remote\\errorhandler.py:243\u001b[0m, in \u001b[0;36mErrorHandler.check_response\u001b[1;34m(self, response)\u001b[0m\n\u001b[0;32m    241\u001b[0m         alert_text \u001b[39m=\u001b[39m value[\u001b[39m'\u001b[39m\u001b[39malert\u001b[39m\u001b[39m'\u001b[39m]\u001b[39m.\u001b[39mget(\u001b[39m'\u001b[39m\u001b[39mtext\u001b[39m\u001b[39m'\u001b[39m)\n\u001b[0;32m    242\u001b[0m     \u001b[39mraise\u001b[39;00m exception_class(message, screen, stacktrace, alert_text)  \u001b[39m# type: ignore[call-arg]  # mypy is not smart enough here\u001b[39;00m\n\u001b[1;32m--> 243\u001b[0m \u001b[39mraise\u001b[39;00m exception_class(message, screen, stacktrace)\n",
      "\u001b[1;31mInvalidSelectorException\u001b[0m: Message: invalid selector: Unable to locate an element with the xpath expression //a[@href=] because of the following error:\nSyntaxError: Failed to execute 'evaluate' on 'Document': The string '//a[@href=]' is not a valid XPath expression.\n  (Session info: chrome=107.0.5304.123)\nStacktrace:\nBacktrace:\n\tOrdinal0 [0x00E3ACD3+2075859]\n\tOrdinal0 [0x00DCEE61+1633889]\n\tOrdinal0 [0x00CCB7BD+571325]\n\tOrdinal0 [0x00CCE374+582516]\n\tOrdinal0 [0x00CCE225+582181]\n\tOrdinal0 [0x00CCE4C0+582848]\n\tOrdinal0 [0x00CFA9A2+764322]\n\tOrdinal0 [0x00CFAE1B+765467]\n\tOrdinal0 [0x00D2D12C+971052]\n\tOrdinal0 [0x00D17364+881508]\n\tOrdinal0 [0x00D2B56A+963946]\n\tOrdinal0 [0x00D17136+880950]\n\tOrdinal0 [0x00CEFEFD+720637]\n\tOrdinal0 [0x00CF0F3F+724799]\n\tGetHandleVerifier [0x010EEED2+2769538]\n\tGetHandleVerifier [0x010E0D95+2711877]\n\tGetHandleVerifier [0x00ECA03A+521194]\n\tGetHandleVerifier [0x00EC8DA0+516432]\n\tOrdinal0 [0x00DD682C+1665068]\n\tOrdinal0 [0x00DDB128+1683752]\n\tOrdinal0 [0x00DDB215+1683989]\n\tOrdinal0 [0x00DE6484+1729668]\n\tBaseThreadInitThunk [0x758B6939+25]\n\tRtlGetFullPathName_UEx [0x77728FD2+1218]\n\tRtlGetFullPathName_UEx [0x77728F9D+1165]\n"
     ]
    }
   ],
   "source": [
    "# element5 = wd.find_elements(By.XPATH,'//a[@href='+']')"
   ]
  },
  {
   "cell_type": "code",
   "execution_count": 59,
   "metadata": {},
   "outputs": [
    {
     "name": "stdout",
     "output_type": "stream",
     "text": [
      "\n",
      "Historical Daily Records\n"
     ]
    }
   ],
   "source": [
    "for e in element5:\n",
    "    print(e.text)"
   ]
  },
  {
   "cell_type": "markdown",
   "metadata": {},
   "source": [
    "---"
   ]
  },
  {
   "cell_type": "code",
   "execution_count": 64,
   "metadata": {},
   "outputs": [],
   "source": [
    "lnks = wd.find_elements(By.TAG_NAME,\"a\")"
   ]
  },
  {
   "cell_type": "code",
   "execution_count": 66,
   "metadata": {},
   "outputs": [
    {
     "name": "stdout",
     "output_type": "stream",
     "text": [
      "http://www.weather.gov.sg/home/\n",
      "http://www.gov.sg/\n",
      "http://www.weather.gov.sg/climate-historical-daily/#\n",
      "http://www.weather.gov.sg/climate-historical-daily/#\n",
      "http://www.weather.gov.sg/about-contact-us/\n",
      "http://www.weather.gov.sg/climate-historical-daily/#\n",
      "http://www.weather.gov.sg/weather-forecast-2hrnowcast/\n",
      "http://www.weather.gov.sg/weather-forecast-24hrforecast/\n",
      "http://www.weather.gov.sg/weather-forecast-4dayoutlook/\n",
      "http://www.weather.gov.sg/weather-fortnightly-outlook/\n",
      "http://www.weather.gov.sg/weather-forecast-monsoon-update/\n",
      "http://www.weather.gov.sg/weather-world-forecast\n",
      "http://www.weather.gov.sg/weather-marine-waves-height\n",
      "http://www.weather.gov.sg/weather-marine-wind-waves\n",
      "http://www.weather.gov.sg/weather-marine-swell\n",
      "http://www.weather.gov.sg/weather-marine-surface-wind\n",
      "http://www.weather.gov.sg/weather-marine-shipping-bulletin\n",
      "http://www.weather.gov.sg/lightning/\n",
      "http://www.weather.gov.sg/weather-currentobservations-rainfall/\n",
      "http://www.weather.gov.sg/weather-currentobservations-temperature/\n",
      "http://www.weather.gov.sg/weather-currentobservations-relative-humidity/\n",
      "http://www.weather.gov.sg/weather-currentobservations-wind/\n",
      "http://www.weather.gov.sg/weather-currentobservations-visibility/\n",
      "http://www.weather.gov.sg/weather-uv\n",
      "http://www.weather.gov.sg/weather-rain-area-50km\n",
      "http://www.weather.gov.sg/weather-rain-area-240km\n",
      "http://www.weather.gov.sg/weather-rain-area-480km\n",
      "http://www.weather.gov.sg/weather-astronomical-and-tidal-information-today\n",
      "http://www.weather.gov.sg/weather-satellite-geo-stationary/\n",
      "http://www.weather.gov.sg/weather-satellite-polar-orbiting/\n",
      "http://www.weather.gov.sg/climate-historical-daily/#\n",
      "http://www.weather.gov.sg/warning-heavy-rain/\n",
      "http://www.weather.gov.sg/warning-haze-satellite-image/\n",
      "http://www.weather.gov.sg/warning-haze-information/\n",
      "http://www.weather.gov.sg/warning-tropical-cyclone-information/\n",
      "http://www.weather.gov.sg/warning-regional-seismic-information/\n",
      "http://www.weather.gov.sg/warning-volcanic-eruption/\n",
      "http://www.weather.gov.sg/climate-historical-daily/#\n",
      "http://www.weather.gov.sg/climate-historical-daily/\n",
      "http://www.weather.gov.sg/climate-historical-extremes/\n",
      "http://www.weather.gov.sg/climate-historical-extremes-temperature/\n",
      "http://www.weather.gov.sg/climate-historical-extremes-humidity/\n",
      "http://www.weather.gov.sg/climate-historical-extremes-wind/\n",
      "http://www.weather.gov.sg/climate-detailed-view/\n",
      "http://www.weather.gov.sg/climate-trends/\n",
      "http://www.weather.gov.sg/climate-normals/\n",
      "http://www.weather.gov.sg/climate-climate-of-singapore/\n",
      "http://www.weather.gov.sg/climate-world-climate/\n",
      "http://www.weather.gov.sg/climate-past-climate-trends/\n",
      "http://www.weather.gov.sg/climate-annual-climate-reports/\n",
      "http://www.weather.gov.sg/climate-el-la/\n",
      "http://www.weather.gov.sg/climate-historical-daily/#\n",
      "http://www.weather.gov.sg/learn_overview/\n",
      "http://www.weather.gov.sg/learn_winds/\n",
      "http://www.weather.gov.sg/learn_weather_systems/\n",
      "http://www.weather.gov.sg/learn_phenomena/\n",
      "http://www.weather.gov.sg/learn_climate/\n",
      "http://www.weather.gov.sg/learn_tidal/\n",
      "http://www.weather.gov.sg/learn_atmosphere/\n",
      "http://www.weather.gov.sg/learn_clouds/\n",
      "http://www.weather.gov.sg/learn_observations/\n",
      "http://www.weather.gov.sg/forecasting-2/\n",
      "http://www.weather.gov.sg/learn-optical-effects/\n",
      "http://www.weather.gov.sg/learn_earthquakes/\n",
      "http://www.weather.gov.sg/climate-historical-daily/#\n",
      "http://www.weather.gov.sg/about-our-organisation/\n",
      "http://www.weather.gov.sg/about-our-organisation/#vision\n",
      "http://www.weather.gov.sg/about-corporate-logo/\n",
      "http://www.weather.gov.sg/home-all-news/?yearnews=2015\n",
      "http://www.weather.gov.sg/visitus/\n",
      "http://www.weather.gov.sg/about-our-organisation/#structure\n",
      "http://www.weather.gov.sg/about-MSS-timeline/\n",
      "http://www.weather.gov.sg/about-our-organisation/\n",
      "http://www.weather.gov.sg/about-career/\n",
      "http://www.weather.gov.sg/about-contact-us/\n",
      "http://www.weather.gov.sg/faq/\n",
      "http://www.weather.gov.sg/home\n",
      "http://www.weather.gov.sg/climate-historical-daily/#\n",
      "http://www.weather.gov.sg/weather-forecast-24hrforecast\n",
      "http://www.weather.gov.sg/warning-heavy-rain\n",
      "http://www.weather.gov.sg/climate-historical-daily/#Admiralty\n",
      "http://www.weather.gov.sg/climate-historical-daily/#Admiralty%20West\n",
      "http://www.weather.gov.sg/climate-historical-daily/#Ang%20Mo%20Kio\n",
      "http://www.weather.gov.sg/climate-historical-daily/#Boon%20Lay%20(East)\n",
      "http://www.weather.gov.sg/climate-historical-daily/#Boon%20Lay%20(West)\n",
      "http://www.weather.gov.sg/climate-historical-daily/#Botanic%20Garden\n",
      "http://www.weather.gov.sg/climate-historical-daily/#Buangkok\n",
      "http://www.weather.gov.sg/climate-historical-daily/#Bukit%20Panjang\n",
      "http://www.weather.gov.sg/climate-historical-daily/#Bukit%20Timah\n",
      "http://www.weather.gov.sg/climate-historical-daily/#Buona%20Vista\n",
      "http://www.weather.gov.sg/climate-historical-daily/#Chai%20Chee\n",
      "http://www.weather.gov.sg/climate-historical-daily/#Changi\n",
      "http://www.weather.gov.sg/climate-historical-daily/#Choa%20Chu%20Kang%20(Central)\n",
      "http://www.weather.gov.sg/climate-historical-daily/#Choa%20Chu%20Kang%20(South)\n",
      "http://www.weather.gov.sg/climate-historical-daily/#Choa%20Chu%20Kang%20(West)\n",
      "http://www.weather.gov.sg/climate-historical-daily/#Clementi\n",
      "http://www.weather.gov.sg/climate-historical-daily/#Dhoby%20Ghaut\n",
      "http://www.weather.gov.sg/climate-historical-daily/#East%20Coast%20Parkway\n",
      "http://www.weather.gov.sg/climate-historical-daily/#Jurong%20(East)\n",
      "http://www.weather.gov.sg/climate-historical-daily/#Jurong%20(North)\n",
      "http://www.weather.gov.sg/climate-historical-daily/#Jurong%20(West)\n",
      "http://www.weather.gov.sg/climate-historical-daily/#Jurong%20Island\n",
      "http://www.weather.gov.sg/climate-historical-daily/#Jurong%20Pier\n",
      "http://www.weather.gov.sg/climate-historical-daily/#Kampong%20Bahru\n",
      "http://www.weather.gov.sg/climate-historical-daily/#Kent%20Ridge\n",
      "http://www.weather.gov.sg/climate-historical-daily/#Khatib\n",
      "http://www.weather.gov.sg/climate-historical-daily/#Kranji%20Reservoir\n",
      "http://www.weather.gov.sg/climate-historical-daily/#Lim%20Chu%20Kang\n",
      "http://www.weather.gov.sg/climate-historical-daily/#Lower%20Peirce%20Reservoir\n",
      "http://www.weather.gov.sg/climate-historical-daily/#Macritchie%20Reservoir\n",
      "http://www.weather.gov.sg/climate-historical-daily/#Mandai\n",
      "http://www.weather.gov.sg/climate-historical-daily/#Marina%20Barrage\n",
      "http://www.weather.gov.sg/climate-historical-daily/#Marine%20Parade\n",
      "http://www.weather.gov.sg/climate-historical-daily/#Newton\n",
      "http://www.weather.gov.sg/climate-historical-daily/#Nicoll%20Highway\n",
      "http://www.weather.gov.sg/climate-historical-daily/#Pasir%20Panjang\n",
      "http://www.weather.gov.sg/climate-historical-daily/#Pasir%20Ris%20(Central)\n",
      "http://www.weather.gov.sg/climate-historical-daily/#Pasir%20Ris%20(West)\n",
      "http://www.weather.gov.sg/climate-historical-daily/#Paya%20Lebar\n",
      "http://www.weather.gov.sg/climate-historical-daily/#Pulau%20Ubin\n",
      "http://www.weather.gov.sg/climate-historical-daily/#Punggol\n",
      "http://www.weather.gov.sg/climate-historical-daily/#Queenstown\n",
      "http://www.weather.gov.sg/climate-historical-daily/#Seletar\n",
      "http://www.weather.gov.sg/climate-historical-daily/#Semakau%20Island\n",
      "http://www.weather.gov.sg/climate-historical-daily/#Sembawang\n",
      "http://www.weather.gov.sg/climate-historical-daily/#Sentosa%20Island\n",
      "http://www.weather.gov.sg/climate-historical-daily/#Serangoon\n",
      "http://www.weather.gov.sg/climate-historical-daily/#Serangoon%20North\n",
      "http://www.weather.gov.sg/climate-historical-daily/#Simei\n",
      "http://www.weather.gov.sg/climate-historical-daily/#Somerset%20(Road)\n",
      "http://www.weather.gov.sg/climate-historical-daily/#Tai%20Seng\n",
      "http://www.weather.gov.sg/climate-historical-daily/#Tanjong%20Katong\n",
      "http://www.weather.gov.sg/climate-historical-daily/#Tanjong%20Pagar\n",
      "http://www.weather.gov.sg/climate-historical-daily/#Tengah\n",
      "http://www.weather.gov.sg/climate-historical-daily/#Toa%20Payoh\n",
      "http://www.weather.gov.sg/climate-historical-daily/#Tuas\n",
      "http://www.weather.gov.sg/climate-historical-daily/#Tuas%20South\n",
      "http://www.weather.gov.sg/climate-historical-daily/#Tuas%20West\n",
      "http://www.weather.gov.sg/climate-historical-daily/#Ulu%20Pandan\n",
      "http://www.weather.gov.sg/climate-historical-daily/#Upper%20Peirce%20Reservoir\n",
      "http://www.weather.gov.sg/climate-historical-daily/#Upper%20Thomson\n",
      "http://www.weather.gov.sg/climate-historical-daily/#Whampoa\n",
      "http://www.weather.gov.sg/climate-historical-daily/#Yishun\n",
      "http://www.weather.gov.sg/climate-historical-daily/#January\n",
      "http://www.weather.gov.sg/climate-historical-daily/#February\n",
      "http://www.weather.gov.sg/climate-historical-daily/#March\n",
      "http://www.weather.gov.sg/climate-historical-daily/#April\n",
      "http://www.weather.gov.sg/climate-historical-daily/#May\n",
      "http://www.weather.gov.sg/climate-historical-daily/#June\n",
      "http://www.weather.gov.sg/climate-historical-daily/#July\n",
      "http://www.weather.gov.sg/climate-historical-daily/#August\n",
      "http://www.weather.gov.sg/climate-historical-daily/#September\n",
      "http://www.weather.gov.sg/climate-historical-daily/#October\n",
      "http://www.weather.gov.sg/climate-historical-daily/#2022\n",
      "http://www.weather.gov.sg/climate-historical-daily/#2021\n",
      "http://www.weather.gov.sg/climate-historical-daily/#2020\n",
      "http://www.weather.gov.sg/climate-historical-daily/#2019\n",
      "http://www.weather.gov.sg/climate-historical-daily/#2018\n",
      "http://www.weather.gov.sg/climate-historical-daily/#2017\n",
      "http://www.weather.gov.sg/climate-historical-daily/#2016\n",
      "http://www.weather.gov.sg/climate-historical-daily/#2015\n",
      "http://www.weather.gov.sg/climate-historical-daily/#2014\n",
      "http://www.weather.gov.sg/climate-historical-daily/#2013\n",
      "http://www.weather.gov.sg/climate-historical-daily/#2012\n",
      "http://www.weather.gov.sg/climate-historical-daily/#2011\n",
      "http://www.weather.gov.sg/climate-historical-daily/#2010\n",
      "http://www.weather.gov.sg/climate-historical-daily/#2009\n",
      "http://www.weather.gov.sg/climate-historical-daily/#2008\n",
      "http://www.weather.gov.sg/climate-historical-daily/#2007\n",
      "http://www.weather.gov.sg/climate-historical-daily/#2006\n",
      "http://www.weather.gov.sg/climate-historical-daily/#2005\n",
      "http://www.weather.gov.sg/climate-historical-daily/#2004\n",
      "http://www.weather.gov.sg/climate-historical-daily/#2003\n",
      "http://www.weather.gov.sg/climate-historical-daily/#2002\n",
      "http://www.weather.gov.sg/climate-historical-daily/#2001\n",
      "http://www.weather.gov.sg/climate-historical-daily/#2000\n",
      "http://www.weather.gov.sg/climate-historical-daily/#1999\n",
      "http://www.weather.gov.sg/climate-historical-daily/#1998\n",
      "http://www.weather.gov.sg/climate-historical-daily/#1997\n",
      "http://www.weather.gov.sg/climate-historical-daily/#1996\n",
      "http://www.weather.gov.sg/climate-historical-daily/#1995\n",
      "http://www.weather.gov.sg/climate-historical-daily/#1994\n",
      "http://www.weather.gov.sg/climate-historical-daily/#1993\n",
      "http://www.weather.gov.sg/climate-historical-daily/#1992\n",
      "http://www.weather.gov.sg/climate-historical-daily/#1991\n",
      "http://www.weather.gov.sg/climate-historical-daily/#1990\n",
      "http://www.weather.gov.sg/climate-historical-daily/#1989\n",
      "http://www.weather.gov.sg/climate-historical-daily/#1988\n",
      "http://www.weather.gov.sg/climate-historical-daily/#1987\n",
      "http://www.weather.gov.sg/climate-historical-daily/#1986\n",
      "http://www.weather.gov.sg/climate-historical-daily/#1985\n",
      "http://www.weather.gov.sg/climate-historical-daily/#1984\n",
      "http://www.weather.gov.sg/climate-historical-daily/#1983\n",
      "http://www.weather.gov.sg/climate-historical-daily/#1982\n",
      "http://www.weather.gov.sg/climate-historical-daily/#1981\n",
      "http://www.weather.gov.sg/climate-historical-daily/#1980\n",
      "http://www.weather.gov.sg/files/dailydata/DAILYDATA_S24_202210.csv\n",
      "http://www.weather.gov.sg/files/dailydata/DAILYDATA_S24_202210.pdf\n",
      "http://www.weather.gov.sg/wp-content/uploads/2022/06/Station_Records.pdf\n",
      "http://www.weather.gov.sg/climate-historical-extremes/\n",
      "http://www.weather.gov.sg/climate-climate-of-singapore/\n",
      "http://www.weather.gov.sg/climate-detailed-view/\n",
      "http://www.weather.gov.sg/learn_climate/\n",
      "http://www.weather.gov.sg/learn_climate/#climate4\n",
      "http://www.weather.gov.sg/learn_climate/#climate3\n",
      "http://www.weather.gov.sg/about-our-organisation/\n",
      "http://www.weather.gov.sg/about-our-organisation/#structure\n",
      "http://www.weather.gov.sg/about-our-organisation/#vision\n",
      "http://www.weather.gov.sg/about-corporate-logo/\n",
      "http://www.weather.gov.sg/about-MSS-timeline/\n",
      "http://www.weather.gov.sg/about-our-organisation/\n",
      "http://www.weather.gov.sg/home-all-news/?yearnews=2015\n",
      "http://www.weather.gov.sg/about-career/\n",
      "http://www.weather.gov.sg/visitus/\n",
      "http://www.weather.gov.sg/about-contact-us/\n",
      "http://www.weather.gov.sg/weather-forecast-24hrforecast/\n",
      "http://www.weather.gov.sg/weather-currentobservations-rainfall/\n",
      "http://www.weather.gov.sg/weather-rain-area-50km/\n",
      "http://www.weather.gov.sg/weather-satellite-geo-stationary/\n",
      "http://www.weather.gov.sg/lightning/\n",
      "http://www.weather.gov.sg/weather-marine-waves-height/\n",
      "http://www.weather.gov.sg/weather-world-forecast/\n",
      "http://www.weather.gov.sg/weather-uv/\n",
      "http://www.weather.gov.sg/weather-astronomical-and-tidal-information-today/\n",
      "http://www.weather.gov.sg/climate-historical-daily/\n",
      "http://www.weather.gov.sg/climate-historical-extremes/\n",
      "http://www.weather.gov.sg/climate-world-climate/\n",
      "http://www.weather.gov.sg/climate-trends/\n",
      "http://www.weather.gov.sg/climate-climate-of-singapore/\n",
      "http://www.weather.gov.sg/climate-past-climate-trends/\n",
      "http://www.weather.gov.sg/climate-annual-climate-reports/\n",
      "http://www.weather.gov.sg/climate-el-la/\n",
      "http://www.weather.gov.sg/warning-heavy-rain/\n",
      "http://www.weather.gov.sg/warning-haze-satellite-image/\n",
      "http://www.weather.gov.sg/warning-tropical-cyclone-information/\n",
      "http://www.weather.gov.sg/warning-regional-seismic-information/\n",
      "http://www.weather.gov.sg/warning-volcanic-eruption/\n",
      "http://www.weather.gov.sg/learn_overview/\n",
      "http://www.weather.gov.sg/learn_atmosphere/\n",
      "http://www.weather.gov.sg/learn_winds/\n",
      "http://www.weather.gov.sg/learn_clouds/\n",
      "http://www.weather.gov.sg/learn_weather_systems/\n",
      "http://www.weather.gov.sg/learn_observations/\n",
      "http://www.weather.gov.sg/learn_phenomena/\n",
      "http://www.weather.gov.sg/forecasting-2/\n",
      "http://www.weather.gov.sg/learn_climate/\n",
      "http://www.weather.gov.sg/learn-optical-effects/\n",
      "http://www.weather.gov.sg/learn_tidal/\n",
      "http://www.weather.gov.sg/learn_earthquakes/\n",
      "http://ccrs.weather.gov.sg/\n",
      "http://asmc.asean.org/\n",
      "http://www.nea.gov.sg/\n",
      "https://www.mse.gov.sg/\n",
      "https://www.weather.gov.sg/wip-login.php\n",
      "http://www.weather.gov.sg/terms-of-use\n",
      "http://www.weather.gov.sg/privacy\n",
      "http://www.weather.gov.sg/rate-this-website\n",
      "http://www.weather.gov.sg/supported-browsers\n",
      "https://www.tech.gov.sg/report_vulnerability\n",
      "http://www.weather.gov.sg/rss-feed\n",
      "https://twitter.com/MetServiceSG\n",
      "https://www.youtube.com/user/MetServiceSG\n"
     ]
    }
   ],
   "source": [
    "for lnk in lnks:\n",
    "   # get_attribute() to get all href\n",
    "   print(lnk.get_attribute('href'))"
   ]
  },
  {
   "cell_type": "markdown",
   "metadata": {},
   "source": [
    "**The above works by pulling out URLS**"
   ]
  },
  {
   "cell_type": "markdown",
   "metadata": {},
   "source": [
    "---"
   ]
  }
 ],
 "metadata": {
  "kernelspec": {
   "display_name": "Python 3.10.5 64-bit",
   "language": "python",
   "name": "python3"
  },
  "language_info": {
   "codemirror_mode": {
    "name": "ipython",
    "version": 3
   },
   "file_extension": ".py",
   "mimetype": "text/x-python",
   "name": "python",
   "nbconvert_exporter": "python",
   "pygments_lexer": "ipython3",
   "version": "3.10.5"
  },
  "orig_nbformat": 4,
  "vscode": {
   "interpreter": {
    "hash": "f1131d84b9e97d700f196cec3f143c1c5ca4787d89ba01101505d30befb8a4c0"
   }
  }
 },
 "nbformat": 4,
 "nbformat_minor": 2
}
